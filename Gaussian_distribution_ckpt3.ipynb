{
  "nbformat": 4,
  "nbformat_minor": 0,
  "metadata": {
    "colab": {
      "provenance": []
    },
    "kernelspec": {
      "name": "python3",
      "display_name": "Python 3"
    },
    "language_info": {
      "name": "python"
    },
    "gpuClass": "standard",
    "accelerator": "GPU"
  },
  "cells": [
    {
      "cell_type": "code",
      "execution_count": 22,
      "metadata": {
        "id": "1St1IYAl4asQ"
      },
      "outputs": [],
      "source": [
        "import pandas as pd\n",
        "import numpy as np\n",
        "from random import randint,uniform\n",
        "from sklearn.model_selection import train_test_split\n",
        "from sklearn.preprocessing import MinMaxScaler\n",
        "import keras\n",
        "from keras import layers\n",
        "from keras import models\n",
        "from keras.utils.vis_utils import plot_model"
      ]
    },
    {
      "cell_type": "code",
      "source": [
        "dataset_columns = ['v'+str(i+1) for i in range(10)]+['mean','std']"
      ],
      "metadata": {
        "id": "N40VRchW4fy7"
      },
      "execution_count": 2,
      "outputs": []
    },
    {
      "cell_type": "code",
      "source": [
        "dataset_columns"
      ],
      "metadata": {
        "colab": {
          "base_uri": "https://localhost:8080/"
        },
        "id": "Hkxh3_mIv-yq",
        "outputId": "b7e0b83c-71c2-4347-937e-fc406c2c4ba6"
      },
      "execution_count": 3,
      "outputs": [
        {
          "output_type": "execute_result",
          "data": {
            "text/plain": [
              "['v1', 'v2', 'v3', 'v4', 'v5', 'v6', 'v7', 'v8', 'v9', 'v10', 'mean', 'std']"
            ]
          },
          "metadata": {},
          "execution_count": 3
        }
      ]
    },
    {
      "cell_type": "code",
      "source": [
        "dataset = pd.DataFrame([],columns = dataset_columns)\n",
        "\n",
        "for counter in range(100000):\n",
        "  x = [uniform(1,10) for i in range(10)]\n",
        "  line = x + [round(np.mean(x),2), round(np.std(x),2)]\n",
        "  line = pd.DataFrame([line],columns = dataset_columns)\n",
        "  dataset = pd.concat([dataset,line])\n",
        "\n",
        "dataset = dataset.reset_index(drop = True)"
      ],
      "metadata": {
        "id": "wSBvH1xqv_Fq"
      },
      "execution_count": 49,
      "outputs": []
    },
    {
      "cell_type": "code",
      "source": [
        "len(dataset)"
      ],
      "metadata": {
        "colab": {
          "base_uri": "https://localhost:8080/"
        },
        "id": "EHCTvMT15v1P",
        "outputId": "678e5267-dca8-4bf0-be04-c72cbcc45df9"
      },
      "execution_count": 5,
      "outputs": [
        {
          "output_type": "execute_result",
          "data": {
            "text/plain": [
              "100000"
            ]
          },
          "metadata": {},
          "execution_count": 5
        }
      ]
    },
    {
      "cell_type": "code",
      "source": [
        "len(dataset['mean'].unique())"
      ],
      "metadata": {
        "colab": {
          "base_uri": "https://localhost:8080/"
        },
        "id": "wVaHs2w1JbKe",
        "outputId": "2921b43c-00a7-418c-f2fb-3ba15d16c077"
      },
      "execution_count": 6,
      "outputs": [
        {
          "output_type": "execute_result",
          "data": {
            "text/plain": [
              "572"
            ]
          },
          "metadata": {},
          "execution_count": 6
        }
      ]
    },
    {
      "cell_type": "code",
      "source": [
        "len(dataset['std'].unique())"
      ],
      "metadata": {
        "colab": {
          "base_uri": "https://localhost:8080/"
        },
        "id": "9xZJL5MPJfGN",
        "outputId": "d757cdc4-2a9d-4116-ea2a-7eafe3af65d2"
      },
      "execution_count": 7,
      "outputs": [
        {
          "output_type": "execute_result",
          "data": {
            "text/plain": [
              "298"
            ]
          },
          "metadata": {},
          "execution_count": 7
        }
      ]
    },
    {
      "cell_type": "code",
      "source": [
        "dataset.head()"
      ],
      "metadata": {
        "colab": {
          "base_uri": "https://localhost:8080/",
          "height": 270
        },
        "id": "_yW9Hsoewxti",
        "outputId": "2938443b-b599-4dc5-d132-c52bc727ccbf"
      },
      "execution_count": 8,
      "outputs": [
        {
          "output_type": "execute_result",
          "data": {
            "text/plain": [
              "         v1        v2        v3        v4        v5        v6        v7  \\\n",
              "0  7.724559  5.664665  1.678589  5.794970  1.727190  9.696658  9.350763   \n",
              "1  4.868117  7.331869  7.758380  1.095970  3.962921  3.115421  5.670303   \n",
              "2  8.094965  5.035054  8.613585  7.780120  4.281941  9.153222  5.356925   \n",
              "3  2.201984  7.492813  6.846244  2.366613  5.401326  9.432572  4.819776   \n",
              "4  9.773046  8.171208  9.999725  3.496321  5.733866  1.007584  2.149900   \n",
              "\n",
              "         v8        v9       v10  mean   std  \n",
              "0  4.643704  5.620002  9.965677  6.19  2.87  \n",
              "1  2.736219  6.070328  6.004073  4.86  2.01  \n",
              "2  6.718595  5.224201  6.237931  6.65  1.60  \n",
              "3  1.909529  3.625043  5.789474  4.99  2.37  \n",
              "4  1.186874  1.783701  3.124105  4.64  3.34  "
            ],
            "text/html": [
              "\n",
              "  <div id=\"df-5275a78d-0523-49b5-b9ad-2b4449ad2a8d\">\n",
              "    <div class=\"colab-df-container\">\n",
              "      <div>\n",
              "<style scoped>\n",
              "    .dataframe tbody tr th:only-of-type {\n",
              "        vertical-align: middle;\n",
              "    }\n",
              "\n",
              "    .dataframe tbody tr th {\n",
              "        vertical-align: top;\n",
              "    }\n",
              "\n",
              "    .dataframe thead th {\n",
              "        text-align: right;\n",
              "    }\n",
              "</style>\n",
              "<table border=\"1\" class=\"dataframe\">\n",
              "  <thead>\n",
              "    <tr style=\"text-align: right;\">\n",
              "      <th></th>\n",
              "      <th>v1</th>\n",
              "      <th>v2</th>\n",
              "      <th>v3</th>\n",
              "      <th>v4</th>\n",
              "      <th>v5</th>\n",
              "      <th>v6</th>\n",
              "      <th>v7</th>\n",
              "      <th>v8</th>\n",
              "      <th>v9</th>\n",
              "      <th>v10</th>\n",
              "      <th>mean</th>\n",
              "      <th>std</th>\n",
              "    </tr>\n",
              "  </thead>\n",
              "  <tbody>\n",
              "    <tr>\n",
              "      <th>0</th>\n",
              "      <td>7.724559</td>\n",
              "      <td>5.664665</td>\n",
              "      <td>1.678589</td>\n",
              "      <td>5.794970</td>\n",
              "      <td>1.727190</td>\n",
              "      <td>9.696658</td>\n",
              "      <td>9.350763</td>\n",
              "      <td>4.643704</td>\n",
              "      <td>5.620002</td>\n",
              "      <td>9.965677</td>\n",
              "      <td>6.19</td>\n",
              "      <td>2.87</td>\n",
              "    </tr>\n",
              "    <tr>\n",
              "      <th>1</th>\n",
              "      <td>4.868117</td>\n",
              "      <td>7.331869</td>\n",
              "      <td>7.758380</td>\n",
              "      <td>1.095970</td>\n",
              "      <td>3.962921</td>\n",
              "      <td>3.115421</td>\n",
              "      <td>5.670303</td>\n",
              "      <td>2.736219</td>\n",
              "      <td>6.070328</td>\n",
              "      <td>6.004073</td>\n",
              "      <td>4.86</td>\n",
              "      <td>2.01</td>\n",
              "    </tr>\n",
              "    <tr>\n",
              "      <th>2</th>\n",
              "      <td>8.094965</td>\n",
              "      <td>5.035054</td>\n",
              "      <td>8.613585</td>\n",
              "      <td>7.780120</td>\n",
              "      <td>4.281941</td>\n",
              "      <td>9.153222</td>\n",
              "      <td>5.356925</td>\n",
              "      <td>6.718595</td>\n",
              "      <td>5.224201</td>\n",
              "      <td>6.237931</td>\n",
              "      <td>6.65</td>\n",
              "      <td>1.60</td>\n",
              "    </tr>\n",
              "    <tr>\n",
              "      <th>3</th>\n",
              "      <td>2.201984</td>\n",
              "      <td>7.492813</td>\n",
              "      <td>6.846244</td>\n",
              "      <td>2.366613</td>\n",
              "      <td>5.401326</td>\n",
              "      <td>9.432572</td>\n",
              "      <td>4.819776</td>\n",
              "      <td>1.909529</td>\n",
              "      <td>3.625043</td>\n",
              "      <td>5.789474</td>\n",
              "      <td>4.99</td>\n",
              "      <td>2.37</td>\n",
              "    </tr>\n",
              "    <tr>\n",
              "      <th>4</th>\n",
              "      <td>9.773046</td>\n",
              "      <td>8.171208</td>\n",
              "      <td>9.999725</td>\n",
              "      <td>3.496321</td>\n",
              "      <td>5.733866</td>\n",
              "      <td>1.007584</td>\n",
              "      <td>2.149900</td>\n",
              "      <td>1.186874</td>\n",
              "      <td>1.783701</td>\n",
              "      <td>3.124105</td>\n",
              "      <td>4.64</td>\n",
              "      <td>3.34</td>\n",
              "    </tr>\n",
              "  </tbody>\n",
              "</table>\n",
              "</div>\n",
              "      <button class=\"colab-df-convert\" onclick=\"convertToInteractive('df-5275a78d-0523-49b5-b9ad-2b4449ad2a8d')\"\n",
              "              title=\"Convert this dataframe to an interactive table.\"\n",
              "              style=\"display:none;\">\n",
              "        \n",
              "  <svg xmlns=\"http://www.w3.org/2000/svg\" height=\"24px\"viewBox=\"0 0 24 24\"\n",
              "       width=\"24px\">\n",
              "    <path d=\"M0 0h24v24H0V0z\" fill=\"none\"/>\n",
              "    <path d=\"M18.56 5.44l.94 2.06.94-2.06 2.06-.94-2.06-.94-.94-2.06-.94 2.06-2.06.94zm-11 1L8.5 8.5l.94-2.06 2.06-.94-2.06-.94L8.5 2.5l-.94 2.06-2.06.94zm10 10l.94 2.06.94-2.06 2.06-.94-2.06-.94-.94-2.06-.94 2.06-2.06.94z\"/><path d=\"M17.41 7.96l-1.37-1.37c-.4-.4-.92-.59-1.43-.59-.52 0-1.04.2-1.43.59L10.3 9.45l-7.72 7.72c-.78.78-.78 2.05 0 2.83L4 21.41c.39.39.9.59 1.41.59.51 0 1.02-.2 1.41-.59l7.78-7.78 2.81-2.81c.8-.78.8-2.07 0-2.86zM5.41 20L4 18.59l7.72-7.72 1.47 1.35L5.41 20z\"/>\n",
              "  </svg>\n",
              "      </button>\n",
              "      \n",
              "  <style>\n",
              "    .colab-df-container {\n",
              "      display:flex;\n",
              "      flex-wrap:wrap;\n",
              "      gap: 12px;\n",
              "    }\n",
              "\n",
              "    .colab-df-convert {\n",
              "      background-color: #E8F0FE;\n",
              "      border: none;\n",
              "      border-radius: 50%;\n",
              "      cursor: pointer;\n",
              "      display: none;\n",
              "      fill: #1967D2;\n",
              "      height: 32px;\n",
              "      padding: 0 0 0 0;\n",
              "      width: 32px;\n",
              "    }\n",
              "\n",
              "    .colab-df-convert:hover {\n",
              "      background-color: #E2EBFA;\n",
              "      box-shadow: 0px 1px 2px rgba(60, 64, 67, 0.3), 0px 1px 3px 1px rgba(60, 64, 67, 0.15);\n",
              "      fill: #174EA6;\n",
              "    }\n",
              "\n",
              "    [theme=dark] .colab-df-convert {\n",
              "      background-color: #3B4455;\n",
              "      fill: #D2E3FC;\n",
              "    }\n",
              "\n",
              "    [theme=dark] .colab-df-convert:hover {\n",
              "      background-color: #434B5C;\n",
              "      box-shadow: 0px 1px 3px 1px rgba(0, 0, 0, 0.15);\n",
              "      filter: drop-shadow(0px 1px 2px rgba(0, 0, 0, 0.3));\n",
              "      fill: #FFFFFF;\n",
              "    }\n",
              "  </style>\n",
              "\n",
              "      <script>\n",
              "        const buttonEl =\n",
              "          document.querySelector('#df-5275a78d-0523-49b5-b9ad-2b4449ad2a8d button.colab-df-convert');\n",
              "        buttonEl.style.display =\n",
              "          google.colab.kernel.accessAllowed ? 'block' : 'none';\n",
              "\n",
              "        async function convertToInteractive(key) {\n",
              "          const element = document.querySelector('#df-5275a78d-0523-49b5-b9ad-2b4449ad2a8d');\n",
              "          const dataTable =\n",
              "            await google.colab.kernel.invokeFunction('convertToInteractive',\n",
              "                                                     [key], {});\n",
              "          if (!dataTable) return;\n",
              "\n",
              "          const docLinkHtml = 'Like what you see? Visit the ' +\n",
              "            '<a target=\"_blank\" href=https://colab.research.google.com/notebooks/data_table.ipynb>data table notebook</a>'\n",
              "            + ' to learn more about interactive tables.';\n",
              "          element.innerHTML = '';\n",
              "          dataTable['output_type'] = 'display_data';\n",
              "          await google.colab.output.renderOutput(dataTable, element);\n",
              "          const docLink = document.createElement('div');\n",
              "          docLink.innerHTML = docLinkHtml;\n",
              "          element.appendChild(docLink);\n",
              "        }\n",
              "      </script>\n",
              "    </div>\n",
              "  </div>\n",
              "  "
            ]
          },
          "metadata": {},
          "execution_count": 8
        }
      ]
    },
    {
      "cell_type": "code",
      "source": [
        "### Training"
      ],
      "metadata": {
        "id": "kaK-09g11GU5"
      },
      "execution_count": null,
      "outputs": []
    },
    {
      "cell_type": "code",
      "source": [
        "### Data pre-processing"
      ],
      "metadata": {
        "id": "ry9qEoBZ2Ceq"
      },
      "execution_count": null,
      "outputs": []
    },
    {
      "cell_type": "code",
      "source": [
        "train, test = train_test_split(dataset,test_size = 0.22,shuffle = True)"
      ],
      "metadata": {
        "id": "z5GhLP_11D7o"
      },
      "execution_count": 113,
      "outputs": []
    },
    {
      "cell_type": "code",
      "source": [
        "train = train.reset_index(drop = True)\n",
        "test = test.reset_index(drop = True)"
      ],
      "metadata": {
        "id": "DckeHUT3JT8L"
      },
      "execution_count": 114,
      "outputs": []
    },
    {
      "cell_type": "code",
      "source": [
        "train.head(2)"
      ],
      "metadata": {
        "colab": {
          "base_uri": "https://localhost:8080/",
          "height": 176
        },
        "id": "9zjkNgub1-eJ",
        "outputId": "6799c18a-14b8-44e1-adc9-436ad2f51786"
      },
      "execution_count": 115,
      "outputs": [
        {
          "output_type": "execute_result",
          "data": {
            "text/plain": [
              "         v1        v2        v3        v4        v5        v6        v7  \\\n",
              "0  2.929395  2.868865  8.762203  6.133211  3.115184  4.179840  4.199504   \n",
              "1  6.474368  5.144492  3.578768  2.181363  6.548577  1.566479  1.150435   \n",
              "\n",
              "         v8        v9       v10  mean   std  \n",
              "0  1.455786  5.058576  5.380748  4.41  1.96  \n",
              "1  5.406063  9.140129  4.261914  4.55  2.39  "
            ],
            "text/html": [
              "\n",
              "  <div id=\"df-2453122e-3237-4278-9fb1-026f8d88c941\">\n",
              "    <div class=\"colab-df-container\">\n",
              "      <div>\n",
              "<style scoped>\n",
              "    .dataframe tbody tr th:only-of-type {\n",
              "        vertical-align: middle;\n",
              "    }\n",
              "\n",
              "    .dataframe tbody tr th {\n",
              "        vertical-align: top;\n",
              "    }\n",
              "\n",
              "    .dataframe thead th {\n",
              "        text-align: right;\n",
              "    }\n",
              "</style>\n",
              "<table border=\"1\" class=\"dataframe\">\n",
              "  <thead>\n",
              "    <tr style=\"text-align: right;\">\n",
              "      <th></th>\n",
              "      <th>v1</th>\n",
              "      <th>v2</th>\n",
              "      <th>v3</th>\n",
              "      <th>v4</th>\n",
              "      <th>v5</th>\n",
              "      <th>v6</th>\n",
              "      <th>v7</th>\n",
              "      <th>v8</th>\n",
              "      <th>v9</th>\n",
              "      <th>v10</th>\n",
              "      <th>mean</th>\n",
              "      <th>std</th>\n",
              "    </tr>\n",
              "  </thead>\n",
              "  <tbody>\n",
              "    <tr>\n",
              "      <th>0</th>\n",
              "      <td>2.929395</td>\n",
              "      <td>2.868865</td>\n",
              "      <td>8.762203</td>\n",
              "      <td>6.133211</td>\n",
              "      <td>3.115184</td>\n",
              "      <td>4.179840</td>\n",
              "      <td>4.199504</td>\n",
              "      <td>1.455786</td>\n",
              "      <td>5.058576</td>\n",
              "      <td>5.380748</td>\n",
              "      <td>4.41</td>\n",
              "      <td>1.96</td>\n",
              "    </tr>\n",
              "    <tr>\n",
              "      <th>1</th>\n",
              "      <td>6.474368</td>\n",
              "      <td>5.144492</td>\n",
              "      <td>3.578768</td>\n",
              "      <td>2.181363</td>\n",
              "      <td>6.548577</td>\n",
              "      <td>1.566479</td>\n",
              "      <td>1.150435</td>\n",
              "      <td>5.406063</td>\n",
              "      <td>9.140129</td>\n",
              "      <td>4.261914</td>\n",
              "      <td>4.55</td>\n",
              "      <td>2.39</td>\n",
              "    </tr>\n",
              "  </tbody>\n",
              "</table>\n",
              "</div>\n",
              "      <button class=\"colab-df-convert\" onclick=\"convertToInteractive('df-2453122e-3237-4278-9fb1-026f8d88c941')\"\n",
              "              title=\"Convert this dataframe to an interactive table.\"\n",
              "              style=\"display:none;\">\n",
              "        \n",
              "  <svg xmlns=\"http://www.w3.org/2000/svg\" height=\"24px\"viewBox=\"0 0 24 24\"\n",
              "       width=\"24px\">\n",
              "    <path d=\"M0 0h24v24H0V0z\" fill=\"none\"/>\n",
              "    <path d=\"M18.56 5.44l.94 2.06.94-2.06 2.06-.94-2.06-.94-.94-2.06-.94 2.06-2.06.94zm-11 1L8.5 8.5l.94-2.06 2.06-.94-2.06-.94L8.5 2.5l-.94 2.06-2.06.94zm10 10l.94 2.06.94-2.06 2.06-.94-2.06-.94-.94-2.06-.94 2.06-2.06.94z\"/><path d=\"M17.41 7.96l-1.37-1.37c-.4-.4-.92-.59-1.43-.59-.52 0-1.04.2-1.43.59L10.3 9.45l-7.72 7.72c-.78.78-.78 2.05 0 2.83L4 21.41c.39.39.9.59 1.41.59.51 0 1.02-.2 1.41-.59l7.78-7.78 2.81-2.81c.8-.78.8-2.07 0-2.86zM5.41 20L4 18.59l7.72-7.72 1.47 1.35L5.41 20z\"/>\n",
              "  </svg>\n",
              "      </button>\n",
              "      \n",
              "  <style>\n",
              "    .colab-df-container {\n",
              "      display:flex;\n",
              "      flex-wrap:wrap;\n",
              "      gap: 12px;\n",
              "    }\n",
              "\n",
              "    .colab-df-convert {\n",
              "      background-color: #E8F0FE;\n",
              "      border: none;\n",
              "      border-radius: 50%;\n",
              "      cursor: pointer;\n",
              "      display: none;\n",
              "      fill: #1967D2;\n",
              "      height: 32px;\n",
              "      padding: 0 0 0 0;\n",
              "      width: 32px;\n",
              "    }\n",
              "\n",
              "    .colab-df-convert:hover {\n",
              "      background-color: #E2EBFA;\n",
              "      box-shadow: 0px 1px 2px rgba(60, 64, 67, 0.3), 0px 1px 3px 1px rgba(60, 64, 67, 0.15);\n",
              "      fill: #174EA6;\n",
              "    }\n",
              "\n",
              "    [theme=dark] .colab-df-convert {\n",
              "      background-color: #3B4455;\n",
              "      fill: #D2E3FC;\n",
              "    }\n",
              "\n",
              "    [theme=dark] .colab-df-convert:hover {\n",
              "      background-color: #434B5C;\n",
              "      box-shadow: 0px 1px 3px 1px rgba(0, 0, 0, 0.15);\n",
              "      filter: drop-shadow(0px 1px 2px rgba(0, 0, 0, 0.3));\n",
              "      fill: #FFFFFF;\n",
              "    }\n",
              "  </style>\n",
              "\n",
              "      <script>\n",
              "        const buttonEl =\n",
              "          document.querySelector('#df-2453122e-3237-4278-9fb1-026f8d88c941 button.colab-df-convert');\n",
              "        buttonEl.style.display =\n",
              "          google.colab.kernel.accessAllowed ? 'block' : 'none';\n",
              "\n",
              "        async function convertToInteractive(key) {\n",
              "          const element = document.querySelector('#df-2453122e-3237-4278-9fb1-026f8d88c941');\n",
              "          const dataTable =\n",
              "            await google.colab.kernel.invokeFunction('convertToInteractive',\n",
              "                                                     [key], {});\n",
              "          if (!dataTable) return;\n",
              "\n",
              "          const docLinkHtml = 'Like what you see? Visit the ' +\n",
              "            '<a target=\"_blank\" href=https://colab.research.google.com/notebooks/data_table.ipynb>data table notebook</a>'\n",
              "            + ' to learn more about interactive tables.';\n",
              "          element.innerHTML = '';\n",
              "          dataTable['output_type'] = 'display_data';\n",
              "          await google.colab.output.renderOutput(dataTable, element);\n",
              "          const docLink = document.createElement('div');\n",
              "          docLink.innerHTML = docLinkHtml;\n",
              "          element.appendChild(docLink);\n",
              "        }\n",
              "      </script>\n",
              "    </div>\n",
              "  </div>\n",
              "  "
            ]
          },
          "metadata": {},
          "execution_count": 115
        }
      ]
    },
    {
      "cell_type": "code",
      "source": [
        "x_train = train.iloc[:,:-2]\n",
        "x_test = test.iloc[:,:-2]"
      ],
      "metadata": {
        "id": "QBLdO0fy1SBC"
      },
      "execution_count": 116,
      "outputs": []
    },
    {
      "cell_type": "code",
      "source": [
        "x_train.head(2)"
      ],
      "metadata": {
        "colab": {
          "base_uri": "https://localhost:8080/",
          "height": 112
        },
        "id": "egHQerJt1SvB",
        "outputId": "866d1d4e-1c28-4857-ee80-1a757387bdd2"
      },
      "execution_count": 117,
      "outputs": [
        {
          "output_type": "execute_result",
          "data": {
            "text/plain": [
              "         v1        v2        v3        v4        v5        v6        v7  \\\n",
              "0  2.929395  2.868865  8.762203  6.133211  3.115184  4.179840  4.199504   \n",
              "1  6.474368  5.144492  3.578768  2.181363  6.548577  1.566479  1.150435   \n",
              "\n",
              "         v8        v9       v10  \n",
              "0  1.455786  5.058576  5.380748  \n",
              "1  5.406063  9.140129  4.261914  "
            ],
            "text/html": [
              "\n",
              "  <div id=\"df-0bd73b66-0bff-4626-995a-59eec69c87e3\">\n",
              "    <div class=\"colab-df-container\">\n",
              "      <div>\n",
              "<style scoped>\n",
              "    .dataframe tbody tr th:only-of-type {\n",
              "        vertical-align: middle;\n",
              "    }\n",
              "\n",
              "    .dataframe tbody tr th {\n",
              "        vertical-align: top;\n",
              "    }\n",
              "\n",
              "    .dataframe thead th {\n",
              "        text-align: right;\n",
              "    }\n",
              "</style>\n",
              "<table border=\"1\" class=\"dataframe\">\n",
              "  <thead>\n",
              "    <tr style=\"text-align: right;\">\n",
              "      <th></th>\n",
              "      <th>v1</th>\n",
              "      <th>v2</th>\n",
              "      <th>v3</th>\n",
              "      <th>v4</th>\n",
              "      <th>v5</th>\n",
              "      <th>v6</th>\n",
              "      <th>v7</th>\n",
              "      <th>v8</th>\n",
              "      <th>v9</th>\n",
              "      <th>v10</th>\n",
              "    </tr>\n",
              "  </thead>\n",
              "  <tbody>\n",
              "    <tr>\n",
              "      <th>0</th>\n",
              "      <td>2.929395</td>\n",
              "      <td>2.868865</td>\n",
              "      <td>8.762203</td>\n",
              "      <td>6.133211</td>\n",
              "      <td>3.115184</td>\n",
              "      <td>4.179840</td>\n",
              "      <td>4.199504</td>\n",
              "      <td>1.455786</td>\n",
              "      <td>5.058576</td>\n",
              "      <td>5.380748</td>\n",
              "    </tr>\n",
              "    <tr>\n",
              "      <th>1</th>\n",
              "      <td>6.474368</td>\n",
              "      <td>5.144492</td>\n",
              "      <td>3.578768</td>\n",
              "      <td>2.181363</td>\n",
              "      <td>6.548577</td>\n",
              "      <td>1.566479</td>\n",
              "      <td>1.150435</td>\n",
              "      <td>5.406063</td>\n",
              "      <td>9.140129</td>\n",
              "      <td>4.261914</td>\n",
              "    </tr>\n",
              "  </tbody>\n",
              "</table>\n",
              "</div>\n",
              "      <button class=\"colab-df-convert\" onclick=\"convertToInteractive('df-0bd73b66-0bff-4626-995a-59eec69c87e3')\"\n",
              "              title=\"Convert this dataframe to an interactive table.\"\n",
              "              style=\"display:none;\">\n",
              "        \n",
              "  <svg xmlns=\"http://www.w3.org/2000/svg\" height=\"24px\"viewBox=\"0 0 24 24\"\n",
              "       width=\"24px\">\n",
              "    <path d=\"M0 0h24v24H0V0z\" fill=\"none\"/>\n",
              "    <path d=\"M18.56 5.44l.94 2.06.94-2.06 2.06-.94-2.06-.94-.94-2.06-.94 2.06-2.06.94zm-11 1L8.5 8.5l.94-2.06 2.06-.94-2.06-.94L8.5 2.5l-.94 2.06-2.06.94zm10 10l.94 2.06.94-2.06 2.06-.94-2.06-.94-.94-2.06-.94 2.06-2.06.94z\"/><path d=\"M17.41 7.96l-1.37-1.37c-.4-.4-.92-.59-1.43-.59-.52 0-1.04.2-1.43.59L10.3 9.45l-7.72 7.72c-.78.78-.78 2.05 0 2.83L4 21.41c.39.39.9.59 1.41.59.51 0 1.02-.2 1.41-.59l7.78-7.78 2.81-2.81c.8-.78.8-2.07 0-2.86zM5.41 20L4 18.59l7.72-7.72 1.47 1.35L5.41 20z\"/>\n",
              "  </svg>\n",
              "      </button>\n",
              "      \n",
              "  <style>\n",
              "    .colab-df-container {\n",
              "      display:flex;\n",
              "      flex-wrap:wrap;\n",
              "      gap: 12px;\n",
              "    }\n",
              "\n",
              "    .colab-df-convert {\n",
              "      background-color: #E8F0FE;\n",
              "      border: none;\n",
              "      border-radius: 50%;\n",
              "      cursor: pointer;\n",
              "      display: none;\n",
              "      fill: #1967D2;\n",
              "      height: 32px;\n",
              "      padding: 0 0 0 0;\n",
              "      width: 32px;\n",
              "    }\n",
              "\n",
              "    .colab-df-convert:hover {\n",
              "      background-color: #E2EBFA;\n",
              "      box-shadow: 0px 1px 2px rgba(60, 64, 67, 0.3), 0px 1px 3px 1px rgba(60, 64, 67, 0.15);\n",
              "      fill: #174EA6;\n",
              "    }\n",
              "\n",
              "    [theme=dark] .colab-df-convert {\n",
              "      background-color: #3B4455;\n",
              "      fill: #D2E3FC;\n",
              "    }\n",
              "\n",
              "    [theme=dark] .colab-df-convert:hover {\n",
              "      background-color: #434B5C;\n",
              "      box-shadow: 0px 1px 3px 1px rgba(0, 0, 0, 0.15);\n",
              "      filter: drop-shadow(0px 1px 2px rgba(0, 0, 0, 0.3));\n",
              "      fill: #FFFFFF;\n",
              "    }\n",
              "  </style>\n",
              "\n",
              "      <script>\n",
              "        const buttonEl =\n",
              "          document.querySelector('#df-0bd73b66-0bff-4626-995a-59eec69c87e3 button.colab-df-convert');\n",
              "        buttonEl.style.display =\n",
              "          google.colab.kernel.accessAllowed ? 'block' : 'none';\n",
              "\n",
              "        async function convertToInteractive(key) {\n",
              "          const element = document.querySelector('#df-0bd73b66-0bff-4626-995a-59eec69c87e3');\n",
              "          const dataTable =\n",
              "            await google.colab.kernel.invokeFunction('convertToInteractive',\n",
              "                                                     [key], {});\n",
              "          if (!dataTable) return;\n",
              "\n",
              "          const docLinkHtml = 'Like what you see? Visit the ' +\n",
              "            '<a target=\"_blank\" href=https://colab.research.google.com/notebooks/data_table.ipynb>data table notebook</a>'\n",
              "            + ' to learn more about interactive tables.';\n",
              "          element.innerHTML = '';\n",
              "          dataTable['output_type'] = 'display_data';\n",
              "          await google.colab.output.renderOutput(dataTable, element);\n",
              "          const docLink = document.createElement('div');\n",
              "          docLink.innerHTML = docLinkHtml;\n",
              "          element.appendChild(docLink);\n",
              "        }\n",
              "      </script>\n",
              "    </div>\n",
              "  </div>\n",
              "  "
            ]
          },
          "metadata": {},
          "execution_count": 117
        }
      ]
    },
    {
      "cell_type": "code",
      "source": [
        "len(x_train)"
      ],
      "metadata": {
        "colab": {
          "base_uri": "https://localhost:8080/"
        },
        "id": "fbYUL08yJS1C",
        "outputId": "a900e08b-2b4b-4397-ea0f-0ba808d9dedf"
      },
      "execution_count": 118,
      "outputs": [
        {
          "output_type": "execute_result",
          "data": {
            "text/plain": [
              "78000"
            ]
          },
          "metadata": {},
          "execution_count": 118
        }
      ]
    },
    {
      "cell_type": "code",
      "source": [
        "y_train = train.iloc[:,-2:]\n",
        "y_test = test.iloc[:,-2:]"
      ],
      "metadata": {
        "id": "LKzIt7bH1M0g"
      },
      "execution_count": 119,
      "outputs": []
    },
    {
      "cell_type": "code",
      "source": [
        "y_train.head(2)"
      ],
      "metadata": {
        "colab": {
          "base_uri": "https://localhost:8080/",
          "height": 112
        },
        "id": "gnXZ3omo1aaR",
        "outputId": "7c7c574b-06de-40eb-b21d-73b8330c46e1"
      },
      "execution_count": 120,
      "outputs": [
        {
          "output_type": "execute_result",
          "data": {
            "text/plain": [
              "   mean   std\n",
              "0  4.41  1.96\n",
              "1  4.55  2.39"
            ],
            "text/html": [
              "\n",
              "  <div id=\"df-07ebe944-20c1-4668-83e9-e973157c72ef\">\n",
              "    <div class=\"colab-df-container\">\n",
              "      <div>\n",
              "<style scoped>\n",
              "    .dataframe tbody tr th:only-of-type {\n",
              "        vertical-align: middle;\n",
              "    }\n",
              "\n",
              "    .dataframe tbody tr th {\n",
              "        vertical-align: top;\n",
              "    }\n",
              "\n",
              "    .dataframe thead th {\n",
              "        text-align: right;\n",
              "    }\n",
              "</style>\n",
              "<table border=\"1\" class=\"dataframe\">\n",
              "  <thead>\n",
              "    <tr style=\"text-align: right;\">\n",
              "      <th></th>\n",
              "      <th>mean</th>\n",
              "      <th>std</th>\n",
              "    </tr>\n",
              "  </thead>\n",
              "  <tbody>\n",
              "    <tr>\n",
              "      <th>0</th>\n",
              "      <td>4.41</td>\n",
              "      <td>1.96</td>\n",
              "    </tr>\n",
              "    <tr>\n",
              "      <th>1</th>\n",
              "      <td>4.55</td>\n",
              "      <td>2.39</td>\n",
              "    </tr>\n",
              "  </tbody>\n",
              "</table>\n",
              "</div>\n",
              "      <button class=\"colab-df-convert\" onclick=\"convertToInteractive('df-07ebe944-20c1-4668-83e9-e973157c72ef')\"\n",
              "              title=\"Convert this dataframe to an interactive table.\"\n",
              "              style=\"display:none;\">\n",
              "        \n",
              "  <svg xmlns=\"http://www.w3.org/2000/svg\" height=\"24px\"viewBox=\"0 0 24 24\"\n",
              "       width=\"24px\">\n",
              "    <path d=\"M0 0h24v24H0V0z\" fill=\"none\"/>\n",
              "    <path d=\"M18.56 5.44l.94 2.06.94-2.06 2.06-.94-2.06-.94-.94-2.06-.94 2.06-2.06.94zm-11 1L8.5 8.5l.94-2.06 2.06-.94-2.06-.94L8.5 2.5l-.94 2.06-2.06.94zm10 10l.94 2.06.94-2.06 2.06-.94-2.06-.94-.94-2.06-.94 2.06-2.06.94z\"/><path d=\"M17.41 7.96l-1.37-1.37c-.4-.4-.92-.59-1.43-.59-.52 0-1.04.2-1.43.59L10.3 9.45l-7.72 7.72c-.78.78-.78 2.05 0 2.83L4 21.41c.39.39.9.59 1.41.59.51 0 1.02-.2 1.41-.59l7.78-7.78 2.81-2.81c.8-.78.8-2.07 0-2.86zM5.41 20L4 18.59l7.72-7.72 1.47 1.35L5.41 20z\"/>\n",
              "  </svg>\n",
              "      </button>\n",
              "      \n",
              "  <style>\n",
              "    .colab-df-container {\n",
              "      display:flex;\n",
              "      flex-wrap:wrap;\n",
              "      gap: 12px;\n",
              "    }\n",
              "\n",
              "    .colab-df-convert {\n",
              "      background-color: #E8F0FE;\n",
              "      border: none;\n",
              "      border-radius: 50%;\n",
              "      cursor: pointer;\n",
              "      display: none;\n",
              "      fill: #1967D2;\n",
              "      height: 32px;\n",
              "      padding: 0 0 0 0;\n",
              "      width: 32px;\n",
              "    }\n",
              "\n",
              "    .colab-df-convert:hover {\n",
              "      background-color: #E2EBFA;\n",
              "      box-shadow: 0px 1px 2px rgba(60, 64, 67, 0.3), 0px 1px 3px 1px rgba(60, 64, 67, 0.15);\n",
              "      fill: #174EA6;\n",
              "    }\n",
              "\n",
              "    [theme=dark] .colab-df-convert {\n",
              "      background-color: #3B4455;\n",
              "      fill: #D2E3FC;\n",
              "    }\n",
              "\n",
              "    [theme=dark] .colab-df-convert:hover {\n",
              "      background-color: #434B5C;\n",
              "      box-shadow: 0px 1px 3px 1px rgba(0, 0, 0, 0.15);\n",
              "      filter: drop-shadow(0px 1px 2px rgba(0, 0, 0, 0.3));\n",
              "      fill: #FFFFFF;\n",
              "    }\n",
              "  </style>\n",
              "\n",
              "      <script>\n",
              "        const buttonEl =\n",
              "          document.querySelector('#df-07ebe944-20c1-4668-83e9-e973157c72ef button.colab-df-convert');\n",
              "        buttonEl.style.display =\n",
              "          google.colab.kernel.accessAllowed ? 'block' : 'none';\n",
              "\n",
              "        async function convertToInteractive(key) {\n",
              "          const element = document.querySelector('#df-07ebe944-20c1-4668-83e9-e973157c72ef');\n",
              "          const dataTable =\n",
              "            await google.colab.kernel.invokeFunction('convertToInteractive',\n",
              "                                                     [key], {});\n",
              "          if (!dataTable) return;\n",
              "\n",
              "          const docLinkHtml = 'Like what you see? Visit the ' +\n",
              "            '<a target=\"_blank\" href=https://colab.research.google.com/notebooks/data_table.ipynb>data table notebook</a>'\n",
              "            + ' to learn more about interactive tables.';\n",
              "          element.innerHTML = '';\n",
              "          dataTable['output_type'] = 'display_data';\n",
              "          await google.colab.output.renderOutput(dataTable, element);\n",
              "          const docLink = document.createElement('div');\n",
              "          docLink.innerHTML = docLinkHtml;\n",
              "          element.appendChild(docLink);\n",
              "        }\n",
              "      </script>\n",
              "    </div>\n",
              "  </div>\n",
              "  "
            ]
          },
          "metadata": {},
          "execution_count": 120
        }
      ]
    },
    {
      "cell_type": "code",
      "source": [
        "len(y_train)"
      ],
      "metadata": {
        "colab": {
          "base_uri": "https://localhost:8080/"
        },
        "id": "u9ZmYtRjJUZU",
        "outputId": "f9a4e91b-2309-47ba-c2c2-e8f9abb7dd7a"
      },
      "execution_count": 121,
      "outputs": [
        {
          "output_type": "execute_result",
          "data": {
            "text/plain": [
              "78000"
            ]
          },
          "metadata": {},
          "execution_count": 121
        }
      ]
    },
    {
      "cell_type": "code",
      "source": [
        "Xscaler = MinMaxScaler(feature_range=(0, 1)) # scale so that all the X data will range from 0 to 1\n",
        "Xscaler.fit(x_train)\n",
        "scaled_x_train = Xscaler.transform(x_train)\n",
        "print(x_train.shape)\n",
        "\n",
        "Yscaler = MinMaxScaler(feature_range=(0, 1))\n",
        "Yscaler.fit(y_train)\n",
        "scaled_y_train = Yscaler.transform(y_train)\n",
        "print(scaled_y_train.shape)\n"
      ],
      "metadata": {
        "colab": {
          "base_uri": "https://localhost:8080/"
        },
        "id": "2bD_fH7KHSI8",
        "outputId": "7330c0aa-d170-471c-a2d0-eb06ef94519d"
      },
      "execution_count": 122,
      "outputs": [
        {
          "output_type": "stream",
          "name": "stdout",
          "text": [
            "(78000, 10)\n",
            "(78000, 2)\n"
          ]
        }
      ]
    },
    {
      "cell_type": "code",
      "source": [
        "print(scaled_y_train.shape)"
      ],
      "metadata": {
        "colab": {
          "base_uri": "https://localhost:8080/"
        },
        "id": "4xsbf1t0JqDs",
        "outputId": "3172fa50-0bf2-466b-de8b-513b0c3b276b"
      },
      "execution_count": 123,
      "outputs": [
        {
          "output_type": "stream",
          "name": "stdout",
          "text": [
            "(78000, 2)\n"
          ]
        }
      ]
    },
    {
      "cell_type": "code",
      "source": [
        "\n",
        "Xscaler = MinMaxScaler(feature_range=(0, 1)) # scale so that all the X data will range from 0 to 1\n",
        "Xscaler.fit(x_test)\n",
        "scaled_x_test = Xscaler.transform(x_test)\n",
        "print(x_test.shape)\n",
        "\n",
        "Yscaler = MinMaxScaler(feature_range=(0, 1))\n",
        "Yscaler.fit(y_test)\n",
        "scaled_y_test = Yscaler.transform(y_test)\n",
        "print(scaled_y_test.shape)"
      ],
      "metadata": {
        "colab": {
          "base_uri": "https://localhost:8080/"
        },
        "id": "YODJ9mRaHSaM",
        "outputId": "144fd100-2fb5-48bf-db26-5d3191ebd34c"
      },
      "execution_count": 124,
      "outputs": [
        {
          "output_type": "stream",
          "name": "stdout",
          "text": [
            "(22000, 10)\n",
            "(22000, 2)\n"
          ]
        }
      ]
    },
    {
      "cell_type": "code",
      "source": [
        "scaled_x_test"
      ],
      "metadata": {
        "colab": {
          "base_uri": "https://localhost:8080/"
        },
        "id": "s5zS7H8BP8tD",
        "outputId": "59f44dae-5bfd-4d44-bcb1-1f1e46e744da"
      },
      "execution_count": 125,
      "outputs": [
        {
          "output_type": "execute_result",
          "data": {
            "text/plain": [
              "array([[0.53312441, 0.06923202, 0.23319387, ..., 0.04830765, 0.39763046,\n",
              "        0.44101477],\n",
              "       [0.96425505, 0.07703342, 0.14028232, ..., 0.70960709, 0.56117047,\n",
              "        0.59145284],\n",
              "       [0.65228774, 0.94189122, 0.01827457, ..., 0.58544344, 0.4581358 ,\n",
              "        0.25259203],\n",
              "       ...,\n",
              "       [0.52794977, 0.74780861, 0.3003526 , ..., 0.42788317, 0.13147696,\n",
              "        0.02841144],\n",
              "       [0.59769301, 0.0123199 , 0.02898104, ..., 0.27113151, 0.39069524,\n",
              "        0.99185399],\n",
              "       [0.94796504, 0.8070063 , 0.02563747, ..., 0.38893838, 0.62529676,\n",
              "        0.78557392]])"
            ]
          },
          "metadata": {},
          "execution_count": 125
        }
      ]
    },
    {
      "cell_type": "code",
      "source": [
        "### Model creation "
      ],
      "metadata": {
        "id": "S_LRXfPR3vbw"
      },
      "execution_count": 126,
      "outputs": []
    },
    {
      "cell_type": "code",
      "source": [],
      "metadata": {
        "id": "SeZUGA593zLQ"
      },
      "execution_count": 126,
      "outputs": []
    },
    {
      "cell_type": "code",
      "source": [
        "model = models.Sequential()\n",
        "model.add(layers.Dense(10, activation='relu', input_shape=(10,)))\n",
        "model.add(layers.Dense(64, activation='relu'))\n",
        "model.add(layers.Dense(16, activation='relu'))\n",
        "model.add(layers.Dropout(0.2))\n",
        "model.add(layers.Dense(2, activation='softmax'))\n",
        "model.compile(loss='mean_squared_error',\n",
        "              optimizer='adam')\n",
        "history = model.fit(scaled_x_train,\n",
        "                    scaled_y_train,\n",
        "                    steps_per_epoch=6,\n",
        "                    epochs=250,\n",
        "                    batch_size=1024,\n",
        "                    validation_data=(scaled_x_test, scaled_y_test),\n",
        "                    validation_steps=1)"
      ],
      "metadata": {
        "colab": {
          "base_uri": "https://localhost:8080/"
        },
        "id": "dfgq7UWl3ziv",
        "outputId": "83511602-a45e-4bd9-9ec4-9a9a49e16e23"
      },
      "execution_count": 139,
      "outputs": [
        {
          "output_type": "stream",
          "name": "stdout",
          "text": [
            "Epoch 1/250\n",
            "6/6 [==============================] - 1s 72ms/step - loss: 0.0170 - val_loss: 0.0202\n",
            "Epoch 2/250\n",
            "6/6 [==============================] - 0s 17ms/step - loss: 0.0167 - val_loss: 0.0198\n",
            "Epoch 3/250\n",
            "6/6 [==============================] - 0s 17ms/step - loss: 0.0161 - val_loss: 0.0195\n",
            "Epoch 4/250\n",
            "6/6 [==============================] - 0s 17ms/step - loss: 0.0154 - val_loss: 0.0190\n",
            "Epoch 5/250\n",
            "6/6 [==============================] - 0s 7ms/step - loss: 0.0153 - val_loss: 0.0186\n",
            "Epoch 6/250\n",
            "6/6 [==============================] - 0s 6ms/step - loss: 0.0148 - val_loss: 0.0182\n",
            "Epoch 7/250\n",
            "6/6 [==============================] - 0s 6ms/step - loss: 0.0147 - val_loss: 0.0180\n",
            "Epoch 8/250\n",
            "6/6 [==============================] - 0s 6ms/step - loss: 0.0147 - val_loss: 0.0176\n",
            "Epoch 9/250\n",
            "6/6 [==============================] - 0s 6ms/step - loss: 0.0142 - val_loss: 0.0174\n",
            "Epoch 10/250\n",
            "6/6 [==============================] - 0s 6ms/step - loss: 0.0144 - val_loss: 0.0170\n",
            "Epoch 11/250\n",
            "6/6 [==============================] - 0s 7ms/step - loss: 0.0139 - val_loss: 0.0169\n",
            "Epoch 12/250\n",
            "6/6 [==============================] - 0s 7ms/step - loss: 0.0136 - val_loss: 0.0166\n",
            "Epoch 13/250\n",
            "6/6 [==============================] - 0s 11ms/step - loss: 0.0134 - val_loss: 0.0164\n",
            "Epoch 14/250\n",
            "6/6 [==============================] - 0s 6ms/step - loss: 0.0134 - val_loss: 0.0160\n",
            "Epoch 15/250\n",
            "6/6 [==============================] - 0s 6ms/step - loss: 0.0132 - val_loss: 0.0158\n",
            "Epoch 16/250\n",
            "6/6 [==============================] - 0s 6ms/step - loss: 0.0131 - val_loss: 0.0156\n",
            "Epoch 17/250\n",
            "6/6 [==============================] - 0s 6ms/step - loss: 0.0128 - val_loss: 0.0153\n",
            "Epoch 18/250\n",
            "6/6 [==============================] - 0s 6ms/step - loss: 0.0127 - val_loss: 0.0152\n",
            "Epoch 19/250\n",
            "6/6 [==============================] - 0s 6ms/step - loss: 0.0128 - val_loss: 0.0150\n",
            "Epoch 20/250\n",
            "6/6 [==============================] - 0s 6ms/step - loss: 0.0124 - val_loss: 0.0149\n",
            "Epoch 21/250\n",
            "6/6 [==============================] - 0s 6ms/step - loss: 0.0122 - val_loss: 0.0146\n",
            "Epoch 22/250\n",
            "6/6 [==============================] - 0s 7ms/step - loss: 0.0125 - val_loss: 0.0145\n",
            "Epoch 23/250\n",
            "6/6 [==============================] - 0s 6ms/step - loss: 0.0122 - val_loss: 0.0144\n",
            "Epoch 24/250\n",
            "6/6 [==============================] - 0s 6ms/step - loss: 0.0119 - val_loss: 0.0143\n",
            "Epoch 25/250\n",
            "6/6 [==============================] - 0s 6ms/step - loss: 0.0120 - val_loss: 0.0143\n",
            "Epoch 26/250\n",
            "6/6 [==============================] - 0s 6ms/step - loss: 0.0120 - val_loss: 0.0143\n",
            "Epoch 27/250\n",
            "6/6 [==============================] - 0s 6ms/step - loss: 0.0115 - val_loss: 0.0141\n",
            "Epoch 28/250\n",
            "6/6 [==============================] - 0s 6ms/step - loss: 0.0119 - val_loss: 0.0141\n",
            "Epoch 29/250\n",
            "6/6 [==============================] - 0s 6ms/step - loss: 0.0118 - val_loss: 0.0141\n",
            "Epoch 30/250\n",
            "6/6 [==============================] - 0s 6ms/step - loss: 0.0120 - val_loss: 0.0141\n",
            "Epoch 31/250\n",
            "6/6 [==============================] - 0s 8ms/step - loss: 0.0118 - val_loss: 0.0139\n",
            "Epoch 32/250\n",
            "6/6 [==============================] - 0s 6ms/step - loss: 0.0115 - val_loss: 0.0140\n",
            "Epoch 33/250\n",
            "6/6 [==============================] - 0s 6ms/step - loss: 0.0119 - val_loss: 0.0140\n",
            "Epoch 34/250\n",
            "6/6 [==============================] - 0s 8ms/step - loss: 0.0119 - val_loss: 0.0138\n",
            "Epoch 35/250\n",
            "6/6 [==============================] - 0s 7ms/step - loss: 0.0117 - val_loss: 0.0138\n",
            "Epoch 36/250\n",
            "6/6 [==============================] - 0s 6ms/step - loss: 0.0116 - val_loss: 0.0139\n",
            "Epoch 37/250\n",
            "6/6 [==============================] - 0s 7ms/step - loss: 0.0114 - val_loss: 0.0138\n",
            "Epoch 38/250\n",
            "6/6 [==============================] - 0s 6ms/step - loss: 0.0117 - val_loss: 0.0137\n",
            "Epoch 39/250\n",
            "6/6 [==============================] - 0s 6ms/step - loss: 0.0113 - val_loss: 0.0137\n",
            "Epoch 40/250\n",
            "6/6 [==============================] - 0s 6ms/step - loss: 0.0115 - val_loss: 0.0137\n",
            "Epoch 41/250\n",
            "6/6 [==============================] - 0s 6ms/step - loss: 0.0115 - val_loss: 0.0137\n",
            "Epoch 42/250\n",
            "6/6 [==============================] - 0s 6ms/step - loss: 0.0115 - val_loss: 0.0136\n",
            "Epoch 43/250\n",
            "6/6 [==============================] - 0s 6ms/step - loss: 0.0115 - val_loss: 0.0137\n",
            "Epoch 44/250\n",
            "6/6 [==============================] - 0s 6ms/step - loss: 0.0115 - val_loss: 0.0136\n",
            "Epoch 45/250\n",
            "6/6 [==============================] - 0s 7ms/step - loss: 0.0112 - val_loss: 0.0136\n",
            "Epoch 46/250\n",
            "6/6 [==============================] - 0s 6ms/step - loss: 0.0113 - val_loss: 0.0135\n",
            "Epoch 47/250\n",
            "6/6 [==============================] - 0s 6ms/step - loss: 0.0112 - val_loss: 0.0135\n",
            "Epoch 48/250\n",
            "6/6 [==============================] - 0s 6ms/step - loss: 0.0112 - val_loss: 0.0134\n",
            "Epoch 49/250\n",
            "6/6 [==============================] - 0s 6ms/step - loss: 0.0113 - val_loss: 0.0134\n",
            "Epoch 50/250\n",
            "6/6 [==============================] - 0s 6ms/step - loss: 0.0116 - val_loss: 0.0134\n",
            "Epoch 51/250\n",
            "6/6 [==============================] - 0s 6ms/step - loss: 0.0113 - val_loss: 0.0133\n",
            "Epoch 52/250\n",
            "6/6 [==============================] - 0s 7ms/step - loss: 0.0113 - val_loss: 0.0134\n",
            "Epoch 53/250\n",
            "6/6 [==============================] - 0s 6ms/step - loss: 0.0110 - val_loss: 0.0134\n",
            "Epoch 54/250\n",
            "6/6 [==============================] - 0s 6ms/step - loss: 0.0115 - val_loss: 0.0132\n",
            "Epoch 55/250\n",
            "6/6 [==============================] - 0s 6ms/step - loss: 0.0111 - val_loss: 0.0132\n",
            "Epoch 56/250\n",
            "6/6 [==============================] - 0s 6ms/step - loss: 0.0110 - val_loss: 0.0133\n",
            "Epoch 57/250\n",
            "6/6 [==============================] - 0s 6ms/step - loss: 0.0113 - val_loss: 0.0133\n",
            "Epoch 58/250\n",
            "6/6 [==============================] - 0s 6ms/step - loss: 0.0111 - val_loss: 0.0132\n",
            "Epoch 59/250\n",
            "6/6 [==============================] - 0s 7ms/step - loss: 0.0112 - val_loss: 0.0131\n",
            "Epoch 60/250\n",
            "6/6 [==============================] - 0s 7ms/step - loss: 0.0108 - val_loss: 0.0131\n",
            "Epoch 61/250\n",
            "6/6 [==============================] - 0s 8ms/step - loss: 0.0110 - val_loss: 0.0132\n",
            "Epoch 62/250\n",
            "6/6 [==============================] - 0s 6ms/step - loss: 0.0108 - val_loss: 0.0132\n",
            "Epoch 63/250\n",
            "6/6 [==============================] - 0s 6ms/step - loss: 0.0112 - val_loss: 0.0131\n",
            "Epoch 64/250\n",
            "6/6 [==============================] - 0s 6ms/step - loss: 0.0110 - val_loss: 0.0130\n",
            "Epoch 65/250\n",
            "6/6 [==============================] - 0s 6ms/step - loss: 0.0109 - val_loss: 0.0130\n",
            "Epoch 66/250\n",
            "6/6 [==============================] - 0s 6ms/step - loss: 0.0108 - val_loss: 0.0130\n",
            "Epoch 67/250\n",
            "6/6 [==============================] - 0s 7ms/step - loss: 0.0111 - val_loss: 0.0130\n",
            "Epoch 68/250\n",
            "6/6 [==============================] - 0s 6ms/step - loss: 0.0107 - val_loss: 0.0130\n",
            "Epoch 69/250\n",
            "6/6 [==============================] - 0s 6ms/step - loss: 0.0109 - val_loss: 0.0129\n",
            "Epoch 70/250\n",
            "6/6 [==============================] - 0s 6ms/step - loss: 0.0111 - val_loss: 0.0130\n",
            "Epoch 71/250\n",
            "6/6 [==============================] - 0s 6ms/step - loss: 0.0108 - val_loss: 0.0129\n",
            "Epoch 72/250\n",
            "6/6 [==============================] - 0s 6ms/step - loss: 0.0109 - val_loss: 0.0128\n",
            "Epoch 73/250\n",
            "6/6 [==============================] - 0s 6ms/step - loss: 0.0110 - val_loss: 0.0128\n",
            "Epoch 74/250\n",
            "6/6 [==============================] - 0s 7ms/step - loss: 0.0108 - val_loss: 0.0129\n",
            "Epoch 75/250\n",
            "6/6 [==============================] - 0s 6ms/step - loss: 0.0106 - val_loss: 0.0129\n",
            "Epoch 76/250\n",
            "6/6 [==============================] - 0s 6ms/step - loss: 0.0108 - val_loss: 0.0129\n",
            "Epoch 77/250\n",
            "6/6 [==============================] - 0s 7ms/step - loss: 0.0105 - val_loss: 0.0127\n",
            "Epoch 78/250\n",
            "6/6 [==============================] - 0s 8ms/step - loss: 0.0108 - val_loss: 0.0128\n",
            "Epoch 79/250\n",
            "6/6 [==============================] - 0s 6ms/step - loss: 0.0109 - val_loss: 0.0127\n",
            "Epoch 80/250\n",
            "6/6 [==============================] - 0s 6ms/step - loss: 0.0105 - val_loss: 0.0127\n",
            "Epoch 81/250\n",
            "6/6 [==============================] - 0s 6ms/step - loss: 0.0106 - val_loss: 0.0127\n",
            "Epoch 82/250\n",
            "6/6 [==============================] - 0s 6ms/step - loss: 0.0107 - val_loss: 0.0127\n",
            "Epoch 83/250\n",
            "6/6 [==============================] - 0s 7ms/step - loss: 0.0105 - val_loss: 0.0127\n",
            "Epoch 84/250\n",
            "6/6 [==============================] - 0s 6ms/step - loss: 0.0110 - val_loss: 0.0126\n",
            "Epoch 85/250\n",
            "6/6 [==============================] - 0s 6ms/step - loss: 0.0103 - val_loss: 0.0126\n",
            "Epoch 86/250\n",
            "6/6 [==============================] - 0s 6ms/step - loss: 0.0105 - val_loss: 0.0127\n",
            "Epoch 87/250\n",
            "6/6 [==============================] - 0s 6ms/step - loss: 0.0105 - val_loss: 0.0128\n",
            "Epoch 88/250\n",
            "6/6 [==============================] - 0s 6ms/step - loss: 0.0108 - val_loss: 0.0127\n",
            "Epoch 89/250\n",
            "6/6 [==============================] - 0s 6ms/step - loss: 0.0108 - val_loss: 0.0126\n",
            "Epoch 90/250\n",
            "6/6 [==============================] - 0s 6ms/step - loss: 0.0106 - val_loss: 0.0126\n",
            "Epoch 91/250\n",
            "6/6 [==============================] - 0s 6ms/step - loss: 0.0105 - val_loss: 0.0126\n",
            "Epoch 92/250\n",
            "6/6 [==============================] - 0s 6ms/step - loss: 0.0105 - val_loss: 0.0125\n",
            "Epoch 93/250\n",
            "6/6 [==============================] - 0s 6ms/step - loss: 0.0106 - val_loss: 0.0125\n",
            "Epoch 94/250\n",
            "6/6 [==============================] - 0s 6ms/step - loss: 0.0107 - val_loss: 0.0125\n",
            "Epoch 95/250\n",
            "6/6 [==============================] - 0s 6ms/step - loss: 0.0103 - val_loss: 0.0125\n",
            "Epoch 96/250\n",
            "6/6 [==============================] - 0s 6ms/step - loss: 0.0106 - val_loss: 0.0125\n",
            "Epoch 97/250\n",
            "6/6 [==============================] - 0s 6ms/step - loss: 0.0107 - val_loss: 0.0126\n",
            "Epoch 98/250\n",
            "6/6 [==============================] - 0s 6ms/step - loss: 0.0103 - val_loss: 0.0127\n",
            "Epoch 99/250\n",
            "6/6 [==============================] - 0s 6ms/step - loss: 0.0108 - val_loss: 0.0128\n",
            "Epoch 100/250\n",
            "6/6 [==============================] - 0s 6ms/step - loss: 0.0107 - val_loss: 0.0127\n",
            "Epoch 101/250\n",
            "6/6 [==============================] - 0s 6ms/step - loss: 0.0107 - val_loss: 0.0126\n",
            "Epoch 102/250\n",
            "6/6 [==============================] - 0s 6ms/step - loss: 0.0102 - val_loss: 0.0126\n",
            "Epoch 103/250\n",
            "6/6 [==============================] - 0s 6ms/step - loss: 0.0106 - val_loss: 0.0126\n",
            "Epoch 104/250\n",
            "6/6 [==============================] - 0s 6ms/step - loss: 0.0104 - val_loss: 0.0124\n",
            "Epoch 105/250\n",
            "6/6 [==============================] - 0s 6ms/step - loss: 0.0106 - val_loss: 0.0124\n",
            "Epoch 106/250\n",
            "6/6 [==============================] - 0s 10ms/step - loss: 0.0107 - val_loss: 0.0124\n",
            "Epoch 107/250\n",
            "6/6 [==============================] - 0s 6ms/step - loss: 0.0102 - val_loss: 0.0124\n",
            "Epoch 108/250\n",
            "6/6 [==============================] - 0s 6ms/step - loss: 0.0106 - val_loss: 0.0124\n",
            "Epoch 109/250\n",
            "6/6 [==============================] - 0s 6ms/step - loss: 0.0100 - val_loss: 0.0124\n",
            "Epoch 110/250\n",
            "6/6 [==============================] - 0s 8ms/step - loss: 0.0102 - val_loss: 0.0125\n",
            "Epoch 111/250\n",
            "6/6 [==============================] - 0s 6ms/step - loss: 0.0107 - val_loss: 0.0123\n",
            "Epoch 112/250\n",
            "6/6 [==============================] - 0s 6ms/step - loss: 0.0102 - val_loss: 0.0123\n",
            "Epoch 113/250\n",
            "6/6 [==============================] - 0s 6ms/step - loss: 0.0105 - val_loss: 0.0124\n",
            "Epoch 114/250\n",
            "6/6 [==============================] - 0s 6ms/step - loss: 0.0104 - val_loss: 0.0124\n",
            "Epoch 115/250\n",
            "6/6 [==============================] - 0s 6ms/step - loss: 0.0104 - val_loss: 0.0123\n",
            "Epoch 116/250\n",
            "6/6 [==============================] - 0s 6ms/step - loss: 0.0104 - val_loss: 0.0123\n",
            "Epoch 117/250\n",
            "6/6 [==============================] - 0s 7ms/step - loss: 0.0102 - val_loss: 0.0123\n",
            "Epoch 118/250\n",
            "6/6 [==============================] - 0s 6ms/step - loss: 0.0102 - val_loss: 0.0122\n",
            "Epoch 119/250\n",
            "6/6 [==============================] - 0s 6ms/step - loss: 0.0107 - val_loss: 0.0122\n",
            "Epoch 120/250\n",
            "6/6 [==============================] - 0s 8ms/step - loss: 0.0102 - val_loss: 0.0124\n",
            "Epoch 121/250\n",
            "6/6 [==============================] - 0s 6ms/step - loss: 0.0102 - val_loss: 0.0124\n",
            "Epoch 122/250\n",
            "6/6 [==============================] - 0s 7ms/step - loss: 0.0104 - val_loss: 0.0122\n",
            "Epoch 123/250\n",
            "6/6 [==============================] - 0s 8ms/step - loss: 0.0103 - val_loss: 0.0123\n",
            "Epoch 124/250\n",
            "6/6 [==============================] - 0s 6ms/step - loss: 0.0106 - val_loss: 0.0123\n",
            "Epoch 125/250\n",
            "6/6 [==============================] - 0s 6ms/step - loss: 0.0100 - val_loss: 0.0123\n",
            "Epoch 126/250\n",
            "6/6 [==============================] - 0s 6ms/step - loss: 0.0103 - val_loss: 0.0122\n",
            "Epoch 127/250\n",
            "6/6 [==============================] - 0s 6ms/step - loss: 0.0104 - val_loss: 0.0122\n",
            "Epoch 128/250\n",
            "6/6 [==============================] - 0s 6ms/step - loss: 0.0101 - val_loss: 0.0121\n",
            "Epoch 129/250\n",
            "6/6 [==============================] - 0s 6ms/step - loss: 0.0102 - val_loss: 0.0121\n",
            "Epoch 130/250\n",
            "6/6 [==============================] - 0s 6ms/step - loss: 0.0106 - val_loss: 0.0122\n",
            "Epoch 131/250\n",
            "6/6 [==============================] - 0s 6ms/step - loss: 0.0101 - val_loss: 0.0122\n",
            "Epoch 132/250\n",
            "6/6 [==============================] - 0s 10ms/step - loss: 0.0100 - val_loss: 0.0121\n",
            "Epoch 133/250\n",
            "6/6 [==============================] - 0s 6ms/step - loss: 0.0102 - val_loss: 0.0121\n",
            "Epoch 134/250\n",
            "6/6 [==============================] - 0s 8ms/step - loss: 0.0101 - val_loss: 0.0120\n",
            "Epoch 135/250\n",
            "6/6 [==============================] - 0s 7ms/step - loss: 0.0104 - val_loss: 0.0122\n",
            "Epoch 136/250\n",
            "6/6 [==============================] - 0s 6ms/step - loss: 0.0101 - val_loss: 0.0121\n",
            "Epoch 137/250\n",
            "6/6 [==============================] - 0s 6ms/step - loss: 0.0101 - val_loss: 0.0121\n",
            "Epoch 138/250\n",
            "6/6 [==============================] - 0s 6ms/step - loss: 0.0102 - val_loss: 0.0120\n",
            "Epoch 139/250\n",
            "6/6 [==============================] - 0s 6ms/step - loss: 0.0101 - val_loss: 0.0121\n",
            "Epoch 140/250\n",
            "6/6 [==============================] - 0s 19ms/step - loss: 0.0099 - val_loss: 0.0121\n",
            "Epoch 141/250\n",
            "6/6 [==============================] - 0s 13ms/step - loss: 0.0100 - val_loss: 0.0121\n",
            "Epoch 142/250\n",
            "6/6 [==============================] - 0s 15ms/step - loss: 0.0103 - val_loss: 0.0120\n",
            "Epoch 143/250\n",
            "6/6 [==============================] - 0s 13ms/step - loss: 0.0100 - val_loss: 0.0121\n",
            "Epoch 144/250\n",
            "6/6 [==============================] - 0s 12ms/step - loss: 0.0102 - val_loss: 0.0120\n",
            "Epoch 145/250\n",
            "6/6 [==============================] - 0s 11ms/step - loss: 0.0100 - val_loss: 0.0120\n",
            "Epoch 146/250\n",
            "6/6 [==============================] - 0s 13ms/step - loss: 0.0100 - val_loss: 0.0120\n",
            "Epoch 147/250\n",
            "6/6 [==============================] - 0s 21ms/step - loss: 0.0100 - val_loss: 0.0120\n",
            "Epoch 148/250\n",
            "6/6 [==============================] - 0s 17ms/step - loss: 0.0098 - val_loss: 0.0120\n",
            "Epoch 149/250\n",
            "6/6 [==============================] - 0s 10ms/step - loss: 0.0098 - val_loss: 0.0120\n",
            "Epoch 150/250\n",
            "6/6 [==============================] - 0s 7ms/step - loss: 0.0104 - val_loss: 0.0119\n",
            "Epoch 151/250\n",
            "6/6 [==============================] - 0s 6ms/step - loss: 0.0100 - val_loss: 0.0121\n",
            "Epoch 152/250\n",
            "6/6 [==============================] - 0s 6ms/step - loss: 0.0103 - val_loss: 0.0119\n",
            "Epoch 153/250\n",
            "6/6 [==============================] - 0s 7ms/step - loss: 0.0100 - val_loss: 0.0120\n",
            "Epoch 154/250\n",
            "6/6 [==============================] - 0s 6ms/step - loss: 0.0101 - val_loss: 0.0122\n",
            "Epoch 155/250\n",
            "6/6 [==============================] - 0s 7ms/step - loss: 0.0100 - val_loss: 0.0119\n",
            "Epoch 156/250\n",
            "6/6 [==============================] - 0s 6ms/step - loss: 0.0100 - val_loss: 0.0120\n",
            "Epoch 157/250\n",
            "6/6 [==============================] - 0s 6ms/step - loss: 0.0100 - val_loss: 0.0120\n",
            "Epoch 158/250\n",
            "6/6 [==============================] - 0s 7ms/step - loss: 0.0099 - val_loss: 0.0119\n",
            "Epoch 159/250\n",
            "6/6 [==============================] - 0s 7ms/step - loss: 0.0101 - val_loss: 0.0121\n",
            "Epoch 160/250\n",
            "6/6 [==============================] - 0s 6ms/step - loss: 0.0103 - val_loss: 0.0120\n",
            "Epoch 161/250\n",
            "6/6 [==============================] - 0s 7ms/step - loss: 0.0098 - val_loss: 0.0120\n",
            "Epoch 162/250\n",
            "6/6 [==============================] - 0s 6ms/step - loss: 0.0101 - val_loss: 0.0120\n",
            "Epoch 163/250\n",
            "6/6 [==============================] - 0s 8ms/step - loss: 0.0100 - val_loss: 0.0120\n",
            "Epoch 164/250\n",
            "6/6 [==============================] - 0s 6ms/step - loss: 0.0100 - val_loss: 0.0119\n",
            "Epoch 165/250\n",
            "6/6 [==============================] - 0s 6ms/step - loss: 0.0101 - val_loss: 0.0120\n",
            "Epoch 166/250\n",
            "6/6 [==============================] - 0s 7ms/step - loss: 0.0100 - val_loss: 0.0119\n",
            "Epoch 167/250\n",
            "6/6 [==============================] - 0s 6ms/step - loss: 0.0099 - val_loss: 0.0118\n",
            "Epoch 168/250\n",
            "6/6 [==============================] - 0s 6ms/step - loss: 0.0100 - val_loss: 0.0120\n",
            "Epoch 169/250\n",
            "6/6 [==============================] - 0s 6ms/step - loss: 0.0100 - val_loss: 0.0118\n",
            "Epoch 170/250\n",
            "6/6 [==============================] - 0s 6ms/step - loss: 0.0102 - val_loss: 0.0120\n",
            "Epoch 171/250\n",
            "6/6 [==============================] - 0s 8ms/step - loss: 0.0100 - val_loss: 0.0119\n",
            "Epoch 172/250\n",
            "6/6 [==============================] - 0s 6ms/step - loss: 0.0098 - val_loss: 0.0119\n",
            "Epoch 173/250\n",
            "6/6 [==============================] - 0s 6ms/step - loss: 0.0099 - val_loss: 0.0119\n",
            "Epoch 174/250\n",
            "6/6 [==============================] - 0s 6ms/step - loss: 0.0102 - val_loss: 0.0119\n",
            "Epoch 175/250\n",
            "6/6 [==============================] - 0s 7ms/step - loss: 0.0100 - val_loss: 0.0119\n",
            "Epoch 176/250\n",
            "6/6 [==============================] - 0s 6ms/step - loss: 0.0100 - val_loss: 0.0120\n",
            "Epoch 177/250\n",
            "6/6 [==============================] - 0s 6ms/step - loss: 0.0097 - val_loss: 0.0119\n",
            "Epoch 178/250\n",
            "6/6 [==============================] - 0s 6ms/step - loss: 0.0100 - val_loss: 0.0119\n",
            "Epoch 179/250\n",
            "6/6 [==============================] - 0s 6ms/step - loss: 0.0100 - val_loss: 0.0118\n",
            "Epoch 180/250\n",
            "6/6 [==============================] - 0s 6ms/step - loss: 0.0101 - val_loss: 0.0118\n",
            "Epoch 181/250\n",
            "6/6 [==============================] - 0s 6ms/step - loss: 0.0103 - val_loss: 0.0119\n",
            "Epoch 182/250\n",
            "6/6 [==============================] - 0s 6ms/step - loss: 0.0098 - val_loss: 0.0118\n",
            "Epoch 183/250\n",
            "6/6 [==============================] - 0s 7ms/step - loss: 0.0098 - val_loss: 0.0120\n",
            "Epoch 184/250\n",
            "6/6 [==============================] - 0s 10ms/step - loss: 0.0100 - val_loss: 0.0119\n",
            "Epoch 185/250\n",
            "6/6 [==============================] - 0s 6ms/step - loss: 0.0099 - val_loss: 0.0120\n",
            "Epoch 186/250\n",
            "6/6 [==============================] - 0s 7ms/step - loss: 0.0102 - val_loss: 0.0118\n",
            "Epoch 187/250\n",
            "6/6 [==============================] - 0s 7ms/step - loss: 0.0101 - val_loss: 0.0119\n",
            "Epoch 188/250\n",
            "6/6 [==============================] - 0s 6ms/step - loss: 0.0098 - val_loss: 0.0119\n",
            "Epoch 189/250\n",
            "6/6 [==============================] - 0s 10ms/step - loss: 0.0099 - val_loss: 0.0118\n",
            "Epoch 190/250\n",
            "6/6 [==============================] - 0s 6ms/step - loss: 0.0098 - val_loss: 0.0120\n",
            "Epoch 191/250\n",
            "6/6 [==============================] - 0s 7ms/step - loss: 0.0099 - val_loss: 0.0118\n",
            "Epoch 192/250\n",
            "6/6 [==============================] - 0s 6ms/step - loss: 0.0101 - val_loss: 0.0118\n",
            "Epoch 193/250\n",
            "6/6 [==============================] - 0s 7ms/step - loss: 0.0100 - val_loss: 0.0120\n",
            "Epoch 194/250\n",
            "6/6 [==============================] - 0s 8ms/step - loss: 0.0101 - val_loss: 0.0117\n",
            "Epoch 195/250\n",
            "6/6 [==============================] - 0s 6ms/step - loss: 0.0099 - val_loss: 0.0119\n",
            "Epoch 196/250\n",
            "6/6 [==============================] - 0s 6ms/step - loss: 0.0100 - val_loss: 0.0119\n",
            "Epoch 197/250\n",
            "6/6 [==============================] - 0s 6ms/step - loss: 0.0099 - val_loss: 0.0119\n",
            "Epoch 198/250\n",
            "6/6 [==============================] - 0s 6ms/step - loss: 0.0100 - val_loss: 0.0118\n",
            "Epoch 199/250\n",
            "6/6 [==============================] - 0s 8ms/step - loss: 0.0100 - val_loss: 0.0119\n",
            "Epoch 200/250\n",
            "6/6 [==============================] - 0s 6ms/step - loss: 0.0099 - val_loss: 0.0119\n",
            "Epoch 201/250\n",
            "6/6 [==============================] - 0s 6ms/step - loss: 0.0100 - val_loss: 0.0118\n",
            "Epoch 202/250\n",
            "6/6 [==============================] - 0s 7ms/step - loss: 0.0098 - val_loss: 0.0118\n",
            "Epoch 203/250\n",
            "6/6 [==============================] - 0s 7ms/step - loss: 0.0098 - val_loss: 0.0119\n",
            "Epoch 204/250\n",
            "6/6 [==============================] - 0s 8ms/step - loss: 0.0100 - val_loss: 0.0118\n",
            "Epoch 205/250\n",
            "6/6 [==============================] - 0s 6ms/step - loss: 0.0101 - val_loss: 0.0119\n",
            "Epoch 206/250\n",
            "6/6 [==============================] - 0s 6ms/step - loss: 0.0101 - val_loss: 0.0118\n",
            "Epoch 207/250\n",
            "6/6 [==============================] - 0s 6ms/step - loss: 0.0098 - val_loss: 0.0119\n",
            "Epoch 208/250\n",
            "6/6 [==============================] - 0s 6ms/step - loss: 0.0101 - val_loss: 0.0118\n",
            "Epoch 209/250\n",
            "6/6 [==============================] - 0s 6ms/step - loss: 0.0096 - val_loss: 0.0119\n",
            "Epoch 210/250\n",
            "6/6 [==============================] - 0s 6ms/step - loss: 0.0099 - val_loss: 0.0118\n",
            "Epoch 211/250\n",
            "6/6 [==============================] - 0s 11ms/step - loss: 0.0101 - val_loss: 0.0119\n",
            "Epoch 212/250\n",
            "6/6 [==============================] - 0s 7ms/step - loss: 0.0101 - val_loss: 0.0118\n",
            "Epoch 213/250\n",
            "6/6 [==============================] - 0s 8ms/step - loss: 0.0100 - val_loss: 0.0119\n",
            "Epoch 214/250\n",
            "6/6 [==============================] - 0s 7ms/step - loss: 0.0098 - val_loss: 0.0118\n",
            "Epoch 215/250\n",
            "6/6 [==============================] - 0s 7ms/step - loss: 0.0100 - val_loss: 0.0118\n",
            "Epoch 216/250\n",
            "6/6 [==============================] - 0s 9ms/step - loss: 0.0102 - val_loss: 0.0118\n",
            "Epoch 217/250\n",
            "6/6 [==============================] - 0s 7ms/step - loss: 0.0099 - val_loss: 0.0119\n",
            "Epoch 218/250\n",
            "6/6 [==============================] - 0s 7ms/step - loss: 0.0098 - val_loss: 0.0118\n",
            "Epoch 219/250\n",
            "6/6 [==============================] - 0s 7ms/step - loss: 0.0098 - val_loss: 0.0118\n",
            "Epoch 220/250\n",
            "6/6 [==============================] - 0s 6ms/step - loss: 0.0100 - val_loss: 0.0119\n",
            "Epoch 221/250\n",
            "6/6 [==============================] - 0s 6ms/step - loss: 0.0100 - val_loss: 0.0117\n",
            "Epoch 222/250\n",
            "6/6 [==============================] - 0s 6ms/step - loss: 0.0100 - val_loss: 0.0119\n",
            "Epoch 223/250\n",
            "6/6 [==============================] - 0s 6ms/step - loss: 0.0100 - val_loss: 0.0118\n",
            "Epoch 224/250\n",
            "6/6 [==============================] - 0s 6ms/step - loss: 0.0100 - val_loss: 0.0119\n",
            "Epoch 225/250\n",
            "6/6 [==============================] - 0s 6ms/step - loss: 0.0101 - val_loss: 0.0118\n",
            "Epoch 226/250\n",
            "6/6 [==============================] - 0s 8ms/step - loss: 0.0099 - val_loss: 0.0118\n",
            "Epoch 227/250\n",
            "6/6 [==============================] - 0s 6ms/step - loss: 0.0101 - val_loss: 0.0118\n",
            "Epoch 228/250\n",
            "6/6 [==============================] - 0s 6ms/step - loss: 0.0096 - val_loss: 0.0118\n",
            "Epoch 229/250\n",
            "6/6 [==============================] - 0s 6ms/step - loss: 0.0101 - val_loss: 0.0119\n",
            "Epoch 230/250\n",
            "6/6 [==============================] - 0s 6ms/step - loss: 0.0096 - val_loss: 0.0118\n",
            "Epoch 231/250\n",
            "6/6 [==============================] - 0s 6ms/step - loss: 0.0100 - val_loss: 0.0119\n",
            "Epoch 232/250\n",
            "6/6 [==============================] - 0s 6ms/step - loss: 0.0098 - val_loss: 0.0118\n",
            "Epoch 233/250\n",
            "6/6 [==============================] - 0s 7ms/step - loss: 0.0100 - val_loss: 0.0118\n",
            "Epoch 234/250\n",
            "6/6 [==============================] - 0s 7ms/step - loss: 0.0097 - val_loss: 0.0119\n",
            "Epoch 235/250\n",
            "6/6 [==============================] - 0s 6ms/step - loss: 0.0100 - val_loss: 0.0117\n",
            "Epoch 236/250\n",
            "6/6 [==============================] - 0s 6ms/step - loss: 0.0101 - val_loss: 0.0119\n",
            "Epoch 237/250\n",
            "6/6 [==============================] - 0s 6ms/step - loss: 0.0101 - val_loss: 0.0118\n",
            "Epoch 238/250\n",
            "6/6 [==============================] - 0s 7ms/step - loss: 0.0101 - val_loss: 0.0118\n",
            "Epoch 239/250\n",
            "6/6 [==============================] - 0s 7ms/step - loss: 0.0097 - val_loss: 0.0120\n",
            "Epoch 240/250\n",
            "6/6 [==============================] - 0s 7ms/step - loss: 0.0097 - val_loss: 0.0117\n",
            "Epoch 241/250\n",
            "6/6 [==============================] - 0s 7ms/step - loss: 0.0100 - val_loss: 0.0118\n",
            "Epoch 242/250\n",
            "6/6 [==============================] - 0s 7ms/step - loss: 0.0098 - val_loss: 0.0118\n",
            "Epoch 243/250\n",
            "6/6 [==============================] - 0s 6ms/step - loss: 0.0101 - val_loss: 0.0118\n",
            "Epoch 244/250\n",
            "6/6 [==============================] - 0s 7ms/step - loss: 0.0100 - val_loss: 0.0118\n",
            "Epoch 245/250\n",
            "6/6 [==============================] - 0s 7ms/step - loss: 0.0098 - val_loss: 0.0119\n",
            "Epoch 246/250\n",
            "6/6 [==============================] - 0s 6ms/step - loss: 0.0099 - val_loss: 0.0117\n",
            "Epoch 247/250\n",
            "6/6 [==============================] - 0s 6ms/step - loss: 0.0098 - val_loss: 0.0118\n",
            "Epoch 248/250\n",
            "6/6 [==============================] - 0s 7ms/step - loss: 0.0099 - val_loss: 0.0118\n",
            "Epoch 249/250\n",
            "6/6 [==============================] - 0s 8ms/step - loss: 0.0098 - val_loss: 0.0118\n",
            "Epoch 250/250\n",
            "6/6 [==============================] - 0s 7ms/step - loss: 0.0100 - val_loss: 0.0118\n"
          ]
        }
      ]
    },
    {
      "cell_type": "code",
      "source": [
        "from matplotlib import pyplot as plt\n",
        "\n",
        "plt.plot(history.history['loss'])\n",
        "plt.plot(history.history['val_loss'])\n",
        "plt.title('model loss')\n",
        "plt.ylabel('loss')\n",
        "plt.xlabel('epoch')\n",
        "plt.legend(['train', 'val'], loc='upper left')\n",
        "plt.show()"
      ],
      "metadata": {
        "colab": {
          "base_uri": "https://localhost:8080/",
          "height": 295
        },
        "id": "7EGRu4qoN_hc",
        "outputId": "b42ac79a-940d-497f-e679-ac5fdfbbbf48"
      },
      "execution_count": 140,
      "outputs": [
        {
          "output_type": "display_data",
          "data": {
            "text/plain": [
              "<Figure size 432x288 with 1 Axes>"
            ],
            "image/png": "[encoded data removed]"
          },
          "metadata": {
            "needs_background": "light"
          }
        }
      ]
    },
    {
      "cell_type": "code",
      "source": [
        "plot_model(model, to_file='/content/model_plot.png', show_shapes=True, show_layer_names=True)"
      ],
      "metadata": {
        "colab": {
          "base_uri": "https://localhost:8080/",
          "height": 644
        },
        "id": "0dAJeRNJMJTi",
        "outputId": "11e4fe53-3de3-4f71-ce00-b4636acd6320"
      },
      "execution_count": 129,
      "outputs": [
        {
          "output_type": "execute_result",
          "data": {
            "image/png": "[encoded data removed]",
            "text/plain": [
              "<IPython.core.display.Image object>"
            ]
          },
          "metadata": {},
          "execution_count": 129
        }
      ]
    },
    {
      "cell_type": "code",
      "source": [
        "##### Inference : "
      ],
      "metadata": {
        "id": "NEUaYsSr7Nnu"
      },
      "execution_count": 130,
      "outputs": []
    },
    {
      "cell_type": "code",
      "source": [
        "model.evaluate(scaled_x_test,scaled_y_test)"
      ],
      "metadata": {
        "colab": {
          "base_uri": "https://localhost:8080/"
        },
        "id": "9NYQjE3ePTBh",
        "outputId": "085b644b-9005-4a30-bd04-8ca7c61a0bf8"
      },
      "execution_count": 141,
      "outputs": [
        {
          "output_type": "stream",
          "name": "stdout",
          "text": [
            "688/688 [==============================] - 1s 2ms/step - loss: 0.0125\n"
          ]
        },
        {
          "output_type": "execute_result",
          "data": {
            "text/plain": [
              "0.012467494234442711"
            ]
          },
          "metadata": {},
          "execution_count": 141
        }
      ]
    },
    {
      "cell_type": "code",
      "source": [
        "x = [uniform(1,10) for i in range(10)]\n",
        "mean_value = round(np.mean(x),2)\n",
        "std_value = round(np.std(x),2)\n",
        "x = pd.DataFrame([x])\n",
        "x.head()"
      ],
      "metadata": {
        "id": "-jm9LMhLPMD6",
        "colab": {
          "base_uri": "https://localhost:8080/",
          "height": 81
        },
        "outputId": "d64a2e6e-cfdb-4f3c-956c-f1324df1ce07"
      },
      "execution_count": 146,
      "outputs": [
        {
          "output_type": "execute_result",
          "data": {
            "text/plain": [
              "          0         1        2         3         4         5         6  \\\n",
              "0  6.657729  3.711592  6.28841  5.066761  3.605682  6.646683  9.672892   \n",
              "\n",
              "          7         8         9  \n",
              "0  4.266687  6.668097  8.026731  "
            ],
            "text/html": [
              "\n",
              "  <div id=\"df-d45e2953-4280-4f4c-8c77-2713930086f7\">\n",
              "    <div class=\"colab-df-container\">\n",
              "      <div>\n",
              "<style scoped>\n",
              "    .dataframe tbody tr th:only-of-type {\n",
              "        vertical-align: middle;\n",
              "    }\n",
              "\n",
              "    .dataframe tbody tr th {\n",
              "        vertical-align: top;\n",
              "    }\n",
              "\n",
              "    .dataframe thead th {\n",
              "        text-align: right;\n",
              "    }\n",
              "</style>\n",
              "<table border=\"1\" class=\"dataframe\">\n",
              "  <thead>\n",
              "    <tr style=\"text-align: right;\">\n",
              "      <th></th>\n",
              "      <th>0</th>\n",
              "      <th>1</th>\n",
              "      <th>2</th>\n",
              "      <th>3</th>\n",
              "      <th>4</th>\n",
              "      <th>5</th>\n",
              "      <th>6</th>\n",
              "      <th>7</th>\n",
              "      <th>8</th>\n",
              "      <th>9</th>\n",
              "    </tr>\n",
              "  </thead>\n",
              "  <tbody>\n",
              "    <tr>\n",
              "      <th>0</th>\n",
              "      <td>6.657729</td>\n",
              "      <td>3.711592</td>\n",
              "      <td>6.28841</td>\n",
              "      <td>5.066761</td>\n",
              "      <td>3.605682</td>\n",
              "      <td>6.646683</td>\n",
              "      <td>9.672892</td>\n",
              "      <td>4.266687</td>\n",
              "      <td>6.668097</td>\n",
              "      <td>8.026731</td>\n",
              "    </tr>\n",
              "  </tbody>\n",
              "</table>\n",
              "</div>\n",
              "      <button class=\"colab-df-convert\" onclick=\"convertToInteractive('df-d45e2953-4280-4f4c-8c77-2713930086f7')\"\n",
              "              title=\"Convert this dataframe to an interactive table.\"\n",
              "              style=\"display:none;\">\n",
              "        \n",
              "  <svg xmlns=\"http://www.w3.org/2000/svg\" height=\"24px\"viewBox=\"0 0 24 24\"\n",
              "       width=\"24px\">\n",
              "    <path d=\"M0 0h24v24H0V0z\" fill=\"none\"/>\n",
              "    <path d=\"M18.56 5.44l.94 2.06.94-2.06 2.06-.94-2.06-.94-.94-2.06-.94 2.06-2.06.94zm-11 1L8.5 8.5l.94-2.06 2.06-.94-2.06-.94L8.5 2.5l-.94 2.06-2.06.94zm10 10l.94 2.06.94-2.06 2.06-.94-2.06-.94-.94-2.06-.94 2.06-2.06.94z\"/><path d=\"M17.41 7.96l-1.37-1.37c-.4-.4-.92-.59-1.43-.59-.52 0-1.04.2-1.43.59L10.3 9.45l-7.72 7.72c-.78.78-.78 2.05 0 2.83L4 21.41c.39.39.9.59 1.41.59.51 0 1.02-.2 1.41-.59l7.78-7.78 2.81-2.81c.8-.78.8-2.07 0-2.86zM5.41 20L4 18.59l7.72-7.72 1.47 1.35L5.41 20z\"/>\n",
              "  </svg>\n",
              "      </button>\n",
              "      \n",
              "  <style>\n",
              "    .colab-df-container {\n",
              "      display:flex;\n",
              "      flex-wrap:wrap;\n",
              "      gap: 12px;\n",
              "    }\n",
              "\n",
              "    .colab-df-convert {\n",
              "      background-color: #E8F0FE;\n",
              "      border: none;\n",
              "      border-radius: 50%;\n",
              "      cursor: pointer;\n",
              "      display: none;\n",
              "      fill: #1967D2;\n",
              "      height: 32px;\n",
              "      padding: 0 0 0 0;\n",
              "      width: 32px;\n",
              "    }\n",
              "\n",
              "    .colab-df-convert:hover {\n",
              "      background-color: #E2EBFA;\n",
              "      box-shadow: 0px 1px 2px rgba(60, 64, 67, 0.3), 0px 1px 3px 1px rgba(60, 64, 67, 0.15);\n",
              "      fill: #174EA6;\n",
              "    }\n",
              "\n",
              "    [theme=dark] .colab-df-convert {\n",
              "      background-color: #3B4455;\n",
              "      fill: #D2E3FC;\n",
              "    }\n",
              "\n",
              "    [theme=dark] .colab-df-convert:hover {\n",
              "      background-color: #434B5C;\n",
              "      box-shadow: 0px 1px 3px 1px rgba(0, 0, 0, 0.15);\n",
              "      filter: drop-shadow(0px 1px 2px rgba(0, 0, 0, 0.3));\n",
              "      fill: #FFFFFF;\n",
              "    }\n",
              "  </style>\n",
              "\n",
              "      <script>\n",
              "        const buttonEl =\n",
              "          document.querySelector('#df-d45e2953-4280-4f4c-8c77-2713930086f7 button.colab-df-convert');\n",
              "        buttonEl.style.display =\n",
              "          google.colab.kernel.accessAllowed ? 'block' : 'none';\n",
              "\n",
              "        async function convertToInteractive(key) {\n",
              "          const element = document.querySelector('#df-d45e2953-4280-4f4c-8c77-2713930086f7');\n",
              "          const dataTable =\n",
              "            await google.colab.kernel.invokeFunction('convertToInteractive',\n",
              "                                                     [key], {});\n",
              "          if (!dataTable) return;\n",
              "\n",
              "          const docLinkHtml = 'Like what you see? Visit the ' +\n",
              "            '<a target=\"_blank\" href=https://colab.research.google.com/notebooks/data_table.ipynb>data table notebook</a>'\n",
              "            + ' to learn more about interactive tables.';\n",
              "          element.innerHTML = '';\n",
              "          dataTable['output_type'] = 'display_data';\n",
              "          await google.colab.output.renderOutput(dataTable, element);\n",
              "          const docLink = document.createElement('div');\n",
              "          docLink.innerHTML = docLinkHtml;\n",
              "          element.appendChild(docLink);\n",
              "        }\n",
              "      </script>\n",
              "    </div>\n",
              "  </div>\n",
              "  "
            ]
          },
          "metadata": {},
          "execution_count": 146
        }
      ]
    },
    {
      "cell_type": "code",
      "source": [
        "x = Xscaler.transform(x)"
      ],
      "metadata": {
        "colab": {
          "base_uri": "https://localhost:8080/"
        },
        "id": "TTPeaLRmSMmD",
        "outputId": "6e076d18-4da6-4aa6-ea94-a47da553d5a3"
      },
      "execution_count": 147,
      "outputs": [
        {
          "output_type": "stream",
          "name": "stderr",
          "text": [
            "/usr/local/lib/python3.8/dist-packages/sklearn/base.py:450: UserWarning: X does not have valid feature names, but MinMaxScaler was fitted with feature names\n",
            "  warnings.warn(\n"
          ]
        }
      ]
    },
    {
      "cell_type": "code",
      "source": [
        "y_pred_scaled = model.predict(x)\n",
        "y_pred = Yscaler.inverse_transform(y_pred_scaled)\n",
        "y_pred"
      ],
      "metadata": {
        "colab": {
          "base_uri": "https://localhost:8080/"
        },
        "id": "fJ8-oxKiR2l7",
        "outputId": "4997aa66-ae3a-49aa-9e5d-8f1d37a65805"
      },
      "execution_count": 148,
      "outputs": [
        {
          "output_type": "stream",
          "name": "stdout",
          "text": [
            "1/1 [==============================] - 0s 48ms/step\n"
          ]
        },
        {
          "output_type": "execute_result",
          "data": {
            "text/plain": [
              "array([[5.958615 , 1.9310502]], dtype=float32)"
            ]
          },
          "metadata": {},
          "execution_count": 148
        }
      ]
    },
    {
      "cell_type": "code",
      "source": [
        "mean_value"
      ],
      "metadata": {
        "colab": {
          "base_uri": "https://localhost:8080/"
        },
        "id": "tAQU0zOGRzCR",
        "outputId": "0320fe84-cabe-4c86-855d-743583353aa9"
      },
      "execution_count": 149,
      "outputs": [
        {
          "output_type": "execute_result",
          "data": {
            "text/plain": [
              "6.06"
            ]
          },
          "metadata": {},
          "execution_count": 149
        }
      ]
    },
    {
      "cell_type": "code",
      "source": [
        "std_value"
      ],
      "metadata": {
        "colab": {
          "base_uri": "https://localhost:8080/"
        },
        "id": "bUGszzrmTxzg",
        "outputId": "0d6cf6b9-2317-4eca-9d82-fe27afeb6c0d"
      },
      "execution_count": 150,
      "outputs": [
        {
          "output_type": "execute_result",
          "data": {
            "text/plain": [
              "1.84"
            ]
          },
          "metadata": {},
          "execution_count": 150
        }
      ]
    },
    {
      "cell_type": "code",
      "source": [
        "comparison_cols = ['True','predicted' ]\n",
        "comparison_idx = ['mean','standard deviation']\n",
        "values = [[mean_value,y_pred[0][0]],[std_value,y_pred[0][1]]]"
      ],
      "metadata": {
        "id": "IPfutVhlXUbi"
      },
      "execution_count": 160,
      "outputs": []
    },
    {
      "cell_type": "code",
      "source": [
        "values"
      ],
      "metadata": {
        "colab": {
          "base_uri": "https://localhost:8080/"
        },
        "id": "cTqtEKxDXwvv",
        "outputId": "5c9a0148-dbcd-44f3-849f-4f44a376fcc5"
      },
      "execution_count": 161,
      "outputs": [
        {
          "output_type": "execute_result",
          "data": {
            "text/plain": [
              "[[6.06, 5.958615], [1.84, 1.9310502]]"
            ]
          },
          "metadata": {},
          "execution_count": 161
        }
      ]
    },
    {
      "cell_type": "code",
      "source": [
        "comparison = pd.DataFrame(values,index = comparison_idx, columns = comparison_cols)"
      ],
      "metadata": {
        "id": "J4yaGNjuX1n3"
      },
      "execution_count": 162,
      "outputs": []
    },
    {
      "cell_type": "code",
      "source": [
        "comparison.head()"
      ],
      "metadata": {
        "colab": {
          "base_uri": "https://localhost:8080/",
          "height": 112
        },
        "id": "BUL-Q13JX-ZX",
        "outputId": "1564f453-a5b4-4421-f052-b8ebd0f38c9b"
      },
      "execution_count": 163,
      "outputs": [
        {
          "output_type": "execute_result",
          "data": {
            "text/plain": [
              "                    True  predicted\n",
              "mean                6.06   5.958615\n",
              "standard deviation  1.84   1.931050"
            ],
            "text/html": [
              "\n",
              "  <div id=\"df-601c5a04-36b2-49f2-b03a-44fdd223d701\">\n",
              "    <div class=\"colab-df-container\">\n",
              "      <div>\n",
              "<style scoped>\n",
              "    .dataframe tbody tr th:only-of-type {\n",
              "        vertical-align: middle;\n",
              "    }\n",
              "\n",
              "    .dataframe tbody tr th {\n",
              "        vertical-align: top;\n",
              "    }\n",
              "\n",
              "    .dataframe thead th {\n",
              "        text-align: right;\n",
              "    }\n",
              "</style>\n",
              "<table border=\"1\" class=\"dataframe\">\n",
              "  <thead>\n",
              "    <tr style=\"text-align: right;\">\n",
              "      <th></th>\n",
              "      <th>True</th>\n",
              "      <th>predicted</th>\n",
              "    </tr>\n",
              "  </thead>\n",
              "  <tbody>\n",
              "    <tr>\n",
              "      <th>mean</th>\n",
              "      <td>6.06</td>\n",
              "      <td>5.958615</td>\n",
              "    </tr>\n",
              "    <tr>\n",
              "      <th>standard deviation</th>\n",
              "      <td>1.84</td>\n",
              "      <td>1.931050</td>\n",
              "    </tr>\n",
              "  </tbody>\n",
              "</table>\n",
              "</div>\n",
              "      <button class=\"colab-df-convert\" onclick=\"convertToInteractive('df-601c5a04-36b2-49f2-b03a-44fdd223d701')\"\n",
              "              title=\"Convert this dataframe to an interactive table.\"\n",
              "              style=\"display:none;\">\n",
              "        \n",
              "  <svg xmlns=\"http://www.w3.org/2000/svg\" height=\"24px\"viewBox=\"0 0 24 24\"\n",
              "       width=\"24px\">\n",
              "    <path d=\"M0 0h24v24H0V0z\" fill=\"none\"/>\n",
              "    <path d=\"M18.56 5.44l.94 2.06.94-2.06 2.06-.94-2.06-.94-.94-2.06-.94 2.06-2.06.94zm-11 1L8.5 8.5l.94-2.06 2.06-.94-2.06-.94L8.5 2.5l-.94 2.06-2.06.94zm10 10l.94 2.06.94-2.06 2.06-.94-2.06-.94-.94-2.06-.94 2.06-2.06.94z\"/><path d=\"M17.41 7.96l-1.37-1.37c-.4-.4-.92-.59-1.43-.59-.52 0-1.04.2-1.43.59L10.3 9.45l-7.72 7.72c-.78.78-.78 2.05 0 2.83L4 21.41c.39.39.9.59 1.41.59.51 0 1.02-.2 1.41-.59l7.78-7.78 2.81-2.81c.8-.78.8-2.07 0-2.86zM5.41 20L4 18.59l7.72-7.72 1.47 1.35L5.41 20z\"/>\n",
              "  </svg>\n",
              "      </button>\n",
              "      \n",
              "  <style>\n",
              "    .colab-df-container {\n",
              "      display:flex;\n",
              "      flex-wrap:wrap;\n",
              "      gap: 12px;\n",
              "    }\n",
              "\n",
              "    .colab-df-convert {\n",
              "      background-color: #E8F0FE;\n",
              "      border: none;\n",
              "      border-radius: 50%;\n",
              "      cursor: pointer;\n",
              "      display: none;\n",
              "      fill: #1967D2;\n",
              "      height: 32px;\n",
              "      padding: 0 0 0 0;\n",
              "      width: 32px;\n",
              "    }\n",
              "\n",
              "    .colab-df-convert:hover {\n",
              "      background-color: #E2EBFA;\n",
              "      box-shadow: 0px 1px 2px rgba(60, 64, 67, 0.3), 0px 1px 3px 1px rgba(60, 64, 67, 0.15);\n",
              "      fill: #174EA6;\n",
              "    }\n",
              "\n",
              "    [theme=dark] .colab-df-convert {\n",
              "      background-color: #3B4455;\n",
              "      fill: #D2E3FC;\n",
              "    }\n",
              "\n",
              "    [theme=dark] .colab-df-convert:hover {\n",
              "      background-color: #434B5C;\n",
              "      box-shadow: 0px 1px 3px 1px rgba(0, 0, 0, 0.15);\n",
              "      filter: drop-shadow(0px 1px 2px rgba(0, 0, 0, 0.3));\n",
              "      fill: #FFFFFF;\n",
              "    }\n",
              "  </style>\n",
              "\n",
              "      <script>\n",
              "        const buttonEl =\n",
              "          document.querySelector('#df-601c5a04-36b2-49f2-b03a-44fdd223d701 button.colab-df-convert');\n",
              "        buttonEl.style.display =\n",
              "          google.colab.kernel.accessAllowed ? 'block' : 'none';\n",
              "\n",
              "        async function convertToInteractive(key) {\n",
              "          const element = document.querySelector('#df-601c5a04-36b2-49f2-b03a-44fdd223d701');\n",
              "          const dataTable =\n",
              "            await google.colab.kernel.invokeFunction('convertToInteractive',\n",
              "                                                     [key], {});\n",
              "          if (!dataTable) return;\n",
              "\n",
              "          const docLinkHtml = 'Like what you see? Visit the ' +\n",
              "            '<a target=\"_blank\" href=https://colab.research.google.com/notebooks/data_table.ipynb>data table notebook</a>'\n",
              "            + ' to learn more about interactive tables.';\n",
              "          element.innerHTML = '';\n",
              "          dataTable['output_type'] = 'display_data';\n",
              "          await google.colab.output.renderOutput(dataTable, element);\n",
              "          const docLink = document.createElement('div');\n",
              "          docLink.innerHTML = docLinkHtml;\n",
              "          element.appendChild(docLink);\n",
              "        }\n",
              "      </script>\n",
              "    </div>\n",
              "  </div>\n",
              "  "
            ]
          },
          "metadata": {},
          "execution_count": 163
        }
      ]
    },
    {
      "cell_type": "code",
      "source": [
        "comparison.plot.bar();"
      ],
      "metadata": {
        "colab": {
          "base_uri": "https://localhost:8080/",
          "height": 349
        },
        "id": "fgj_4UdNYAWm",
        "outputId": "f93c632d-5a69-42eb-da98-8affa5c07cd3"
      },
      "execution_count": 166,
      "outputs": [
        {
          "output_type": "display_data",
          "data": {
            "text/plain": [
              "<Figure size 432x288 with 1 Axes>"
            ],
            "image/png": "[encoded data removed]"
          },
          "metadata": {
            "needs_background": "light"
          }
        }
      ]
    },
    {
      "cell_type": "code",
      "source": [
        "###"
      ],
      "metadata": {
        "id": "zWBAhw3HYwpW"
      },
      "execution_count": 167,
      "outputs": []
    },
    {
      "cell_type": "code",
      "source": [
        "Test_preds = model.predict(scaled_x_test)"
      ],
      "metadata": {
        "colab": {
          "base_uri": "https://localhost:8080/"
        },
        "id": "nbpQVUOLbPT-",
        "outputId": "895eb64c-6885-4f10-ca61-3b98836a250b"
      },
      "execution_count": 204,
      "outputs": [
        {
          "output_type": "stream",
          "name": "stdout",
          "text": [
            "688/688 [==============================] - 2s 2ms/step\n"
          ]
        }
      ]
    },
    {
      "cell_type": "code",
      "source": [
        "Test_preds = Yscaler.inverse_transform(Test_preds)"
      ],
      "metadata": {
        "id": "2c5AQ6GebRyG"
      },
      "execution_count": 205,
      "outputs": []
    },
    {
      "cell_type": "code",
      "source": [
        "real_values = Yscaler.inverse_transform(scaled_y_test)"
      ],
      "metadata": {
        "id": "RH_WbFYIbbr1"
      },
      "execution_count": 206,
      "outputs": []
    },
    {
      "cell_type": "code",
      "source": [
        "real_values.shape"
      ],
      "metadata": {
        "colab": {
          "base_uri": "https://localhost:8080/"
        },
        "id": "XMwo4GwMeOYz",
        "outputId": "4dd5b461-a2ed-4e4d-ab54-827efc7434d0"
      },
      "execution_count": 207,
      "outputs": [
        {
          "output_type": "execute_result",
          "data": {
            "text/plain": [
              "(22000, 2)"
            ]
          },
          "metadata": {},
          "execution_count": 207
        }
      ]
    },
    {
      "cell_type": "code",
      "source": [
        "real_values[:,0]"
      ],
      "metadata": {
        "colab": {
          "base_uri": "https://localhost:8080/"
        },
        "id": "2QP1x0kZev-k",
        "outputId": "59a64121-02d9-4215-b1ef-904974d03ffd"
      },
      "execution_count": 212,
      "outputs": [
        {
          "output_type": "execute_result",
          "data": {
            "text/plain": [
              "array([4.43, 5.72, 5.26, ..., 4.89, 5.47, 5.89])"
            ]
          },
          "metadata": {},
          "execution_count": 212
        }
      ]
    },
    {
      "cell_type": "code",
      "source": [
        "mean_real_values = real_values[:,0]\n",
        "mean_preds = Test_preds[:,0]\n",
        "std_real_values = real_values[:,1]\n",
        "std_preds = Test_preds[:,1]"
      ],
      "metadata": {
        "id": "inyPapPlcbKD"
      },
      "execution_count": 213,
      "outputs": []
    },
    {
      "cell_type": "code",
      "source": [
        "mean_comparison = pd.DataFrame([],columns = ['Real value','Predicted value'])\n",
        "std_comparison = pd.DataFrame([],columns = ['Real value','Predicted value'])"
      ],
      "metadata": {
        "id": "_kOKVfgrbx-N"
      },
      "execution_count": 214,
      "outputs": []
    },
    {
      "cell_type": "code",
      "source": [
        "mean_comparison['Real value'] = mean_real_values\n",
        "std_comparison['Real value'] = std_real_values\n",
        "mean_comparison['Predicted value'] = mean_preds\n",
        "std_comparison['Predicted value'] = std_preds"
      ],
      "metadata": {
        "id": "OerMUFjjb_4N"
      },
      "execution_count": 215,
      "outputs": []
    },
    {
      "cell_type": "code",
      "source": [
        "std_comparison.head()"
      ],
      "metadata": {
        "colab": {
          "base_uri": "https://localhost:8080/",
          "height": 206
        },
        "id": "pPQ8yoGdcDhN",
        "outputId": "c394bcd9-2663-47e7-a43b-c36b69a8390c"
      },
      "execution_count": 216,
      "outputs": [
        {
          "output_type": "execute_result",
          "data": {
            "text/plain": [
              "   Real value  Predicted value\n",
              "0        2.44         2.426316\n",
              "1        2.66         2.317133\n",
              "2        2.73         2.448724\n",
              "3        2.42         2.070280\n",
              "4        2.17         2.108373"
            ],
            "text/html": [
              "\n",
              "  <div id=\"df-0ca07af2-b8a1-4b5e-ad65-57498633bd54\">\n",
              "    <div class=\"colab-df-container\">\n",
              "      <div>\n",
              "<style scoped>\n",
              "    .dataframe tbody tr th:only-of-type {\n",
              "        vertical-align: middle;\n",
              "    }\n",
              "\n",
              "    .dataframe tbody tr th {\n",
              "        vertical-align: top;\n",
              "    }\n",
              "\n",
              "    .dataframe thead th {\n",
              "        text-align: right;\n",
              "    }\n",
              "</style>\n",
              "<table border=\"1\" class=\"dataframe\">\n",
              "  <thead>\n",
              "    <tr style=\"text-align: right;\">\n",
              "      <th></th>\n",
              "      <th>Real value</th>\n",
              "      <th>Predicted value</th>\n",
              "    </tr>\n",
              "  </thead>\n",
              "  <tbody>\n",
              "    <tr>\n",
              "      <th>0</th>\n",
              "      <td>2.44</td>\n",
              "      <td>2.426316</td>\n",
              "    </tr>\n",
              "    <tr>\n",
              "      <th>1</th>\n",
              "      <td>2.66</td>\n",
              "      <td>2.317133</td>\n",
              "    </tr>\n",
              "    <tr>\n",
              "      <th>2</th>\n",
              "      <td>2.73</td>\n",
              "      <td>2.448724</td>\n",
              "    </tr>\n",
              "    <tr>\n",
              "      <th>3</th>\n",
              "      <td>2.42</td>\n",
              "      <td>2.070280</td>\n",
              "    </tr>\n",
              "    <tr>\n",
              "      <th>4</th>\n",
              "      <td>2.17</td>\n",
              "      <td>2.108373</td>\n",
              "    </tr>\n",
              "  </tbody>\n",
              "</table>\n",
              "</div>\n",
              "      <button class=\"colab-df-convert\" onclick=\"convertToInteractive('df-0ca07af2-b8a1-4b5e-ad65-57498633bd54')\"\n",
              "              title=\"Convert this dataframe to an interactive table.\"\n",
              "              style=\"display:none;\">\n",
              "        \n",
              "  <svg xmlns=\"http://www.w3.org/2000/svg\" height=\"24px\"viewBox=\"0 0 24 24\"\n",
              "       width=\"24px\">\n",
              "    <path d=\"M0 0h24v24H0V0z\" fill=\"none\"/>\n",
              "    <path d=\"M18.56 5.44l.94 2.06.94-2.06 2.06-.94-2.06-.94-.94-2.06-.94 2.06-2.06.94zm-11 1L8.5 8.5l.94-2.06 2.06-.94-2.06-.94L8.5 2.5l-.94 2.06-2.06.94zm10 10l.94 2.06.94-2.06 2.06-.94-2.06-.94-.94-2.06-.94 2.06-2.06.94z\"/><path d=\"M17.41 7.96l-1.37-1.37c-.4-.4-.92-.59-1.43-.59-.52 0-1.04.2-1.43.59L10.3 9.45l-7.72 7.72c-.78.78-.78 2.05 0 2.83L4 21.41c.39.39.9.59 1.41.59.51 0 1.02-.2 1.41-.59l7.78-7.78 2.81-2.81c.8-.78.8-2.07 0-2.86zM5.41 20L4 18.59l7.72-7.72 1.47 1.35L5.41 20z\"/>\n",
              "  </svg>\n",
              "      </button>\n",
              "      \n",
              "  <style>\n",
              "    .colab-df-container {\n",
              "      display:flex;\n",
              "      flex-wrap:wrap;\n",
              "      gap: 12px;\n",
              "    }\n",
              "\n",
              "    .colab-df-convert {\n",
              "      background-color: #E8F0FE;\n",
              "      border: none;\n",
              "      border-radius: 50%;\n",
              "      cursor: pointer;\n",
              "      display: none;\n",
              "      fill: #1967D2;\n",
              "      height: 32px;\n",
              "      padding: 0 0 0 0;\n",
              "      width: 32px;\n",
              "    }\n",
              "\n",
              "    .colab-df-convert:hover {\n",
              "      background-color: #E2EBFA;\n",
              "      box-shadow: 0px 1px 2px rgba(60, 64, 67, 0.3), 0px 1px 3px 1px rgba(60, 64, 67, 0.15);\n",
              "      fill: #174EA6;\n",
              "    }\n",
              "\n",
              "    [theme=dark] .colab-df-convert {\n",
              "      background-color: #3B4455;\n",
              "      fill: #D2E3FC;\n",
              "    }\n",
              "\n",
              "    [theme=dark] .colab-df-convert:hover {\n",
              "      background-color: #434B5C;\n",
              "      box-shadow: 0px 1px 3px 1px rgba(0, 0, 0, 0.15);\n",
              "      filter: drop-shadow(0px 1px 2px rgba(0, 0, 0, 0.3));\n",
              "      fill: #FFFFFF;\n",
              "    }\n",
              "  </style>\n",
              "\n",
              "      <script>\n",
              "        const buttonEl =\n",
              "          document.querySelector('#df-0ca07af2-b8a1-4b5e-ad65-57498633bd54 button.colab-df-convert');\n",
              "        buttonEl.style.display =\n",
              "          google.colab.kernel.accessAllowed ? 'block' : 'none';\n",
              "\n",
              "        async function convertToInteractive(key) {\n",
              "          const element = document.querySelector('#df-0ca07af2-b8a1-4b5e-ad65-57498633bd54');\n",
              "          const dataTable =\n",
              "            await google.colab.kernel.invokeFunction('convertToInteractive',\n",
              "                                                     [key], {});\n",
              "          if (!dataTable) return;\n",
              "\n",
              "          const docLinkHtml = 'Like what you see? Visit the ' +\n",
              "            '<a target=\"_blank\" href=https://colab.research.google.com/notebooks/data_table.ipynb>data table notebook</a>'\n",
              "            + ' to learn more about interactive tables.';\n",
              "          element.innerHTML = '';\n",
              "          dataTable['output_type'] = 'display_data';\n",
              "          await google.colab.output.renderOutput(dataTable, element);\n",
              "          const docLink = document.createElement('div');\n",
              "          docLink.innerHTML = docLinkHtml;\n",
              "          element.appendChild(docLink);\n",
              "        }\n",
              "      </script>\n",
              "    </div>\n",
              "  </div>\n",
              "  "
            ]
          },
          "metadata": {},
          "execution_count": 216
        }
      ]
    },
    {
      "cell_type": "code",
      "source": [
        "plt.scatter(std_real_values[:10],std_real_values[:10], c='r')\n",
        "plt.scatter(std_real_values[:10],std_preds[:10], c='b')\n",
        "plt.xlabel(\"x\")\n",
        "plt.ylabel(\"y\")\n",
        "plt.axis('equal')\n",
        "plt.axis('square')\n",
        "plt.xlim([0,plt.xlim()[1]])\n",
        "plt.ylim([0,plt.ylim()[1]])\n",
        "plt.plot([-10,10],[-10,10])"
      ],
      "metadata": {
        "colab": {
          "base_uri": "https://localhost:8080/",
          "height": 296
        },
        "id": "Wp8x0l6Kg7NH",
        "outputId": "7becab82-df02-4b7e-a14b-5e3f3ee4154b"
      },
      "execution_count": 222,
      "outputs": [
        {
          "output_type": "execute_result",
          "data": {
            "text/plain": [
              "[<matplotlib.lines.Line2D at 0x7fab127ceca0>]"
            ]
          },
          "metadata": {},
          "execution_count": 222
        },
        {
          "output_type": "display_data",
          "data": {
            "text/plain": [
              "<Figure size 432x288 with 1 Axes>"
            ],
            "image/png": "[encoded data removed]"
          },
          "metadata": {
            "needs_background": "light"
          }
        }
      ]
    },
    {
      "cell_type": "code",
      "source": [
        "mean_comparison.head()"
      ],
      "metadata": {
        "colab": {
          "base_uri": "https://localhost:8080/",
          "height": 206
        },
        "id": "rev29jf-ckG9",
        "outputId": "6024063b-bccf-4b46-fcf0-2d7bae39216a"
      },
      "execution_count": 217,
      "outputs": [
        {
          "output_type": "execute_result",
          "data": {
            "text/plain": [
              "   Real value  Predicted value\n",
              "0        4.43         4.951181\n",
              "1        5.72         5.173272\n",
              "2        5.26         4.905600\n",
              "3        6.18         5.675402\n",
              "4        6.22         5.597917"
            ],
            "text/html": [
              "\n",
              "  <div id=\"df-c814e52a-14b0-4805-b84c-ab0f4a911ee0\">\n",
              "    <div class=\"colab-df-container\">\n",
              "      <div>\n",
              "<style scoped>\n",
              "    .dataframe tbody tr th:only-of-type {\n",
              "        vertical-align: middle;\n",
              "    }\n",
              "\n",
              "    .dataframe tbody tr th {\n",
              "        vertical-align: top;\n",
              "    }\n",
              "\n",
              "    .dataframe thead th {\n",
              "        text-align: right;\n",
              "    }\n",
              "</style>\n",
              "<table border=\"1\" class=\"dataframe\">\n",
              "  <thead>\n",
              "    <tr style=\"text-align: right;\">\n",
              "      <th></th>\n",
              "      <th>Real value</th>\n",
              "      <th>Predicted value</th>\n",
              "    </tr>\n",
              "  </thead>\n",
              "  <tbody>\n",
              "    <tr>\n",
              "      <th>0</th>\n",
              "      <td>4.43</td>\n",
              "      <td>4.951181</td>\n",
              "    </tr>\n",
              "    <tr>\n",
              "      <th>1</th>\n",
              "      <td>5.72</td>\n",
              "      <td>5.173272</td>\n",
              "    </tr>\n",
              "    <tr>\n",
              "      <th>2</th>\n",
              "      <td>5.26</td>\n",
              "      <td>4.905600</td>\n",
              "    </tr>\n",
              "    <tr>\n",
              "      <th>3</th>\n",
              "      <td>6.18</td>\n",
              "      <td>5.675402</td>\n",
              "    </tr>\n",
              "    <tr>\n",
              "      <th>4</th>\n",
              "      <td>6.22</td>\n",
              "      <td>5.597917</td>\n",
              "    </tr>\n",
              "  </tbody>\n",
              "</table>\n",
              "</div>\n",
              "      <button class=\"colab-df-convert\" onclick=\"convertToInteractive('df-c814e52a-14b0-4805-b84c-ab0f4a911ee0')\"\n",
              "              title=\"Convert this dataframe to an interactive table.\"\n",
              "              style=\"display:none;\">\n",
              "        \n",
              "  <svg xmlns=\"http://www.w3.org/2000/svg\" height=\"24px\"viewBox=\"0 0 24 24\"\n",
              "       width=\"24px\">\n",
              "    <path d=\"M0 0h24v24H0V0z\" fill=\"none\"/>\n",
              "    <path d=\"M18.56 5.44l.94 2.06.94-2.06 2.06-.94-2.06-.94-.94-2.06-.94 2.06-2.06.94zm-11 1L8.5 8.5l.94-2.06 2.06-.94-2.06-.94L8.5 2.5l-.94 2.06-2.06.94zm10 10l.94 2.06.94-2.06 2.06-.94-2.06-.94-.94-2.06-.94 2.06-2.06.94z\"/><path d=\"M17.41 7.96l-1.37-1.37c-.4-.4-.92-.59-1.43-.59-.52 0-1.04.2-1.43.59L10.3 9.45l-7.72 7.72c-.78.78-.78 2.05 0 2.83L4 21.41c.39.39.9.59 1.41.59.51 0 1.02-.2 1.41-.59l7.78-7.78 2.81-2.81c.8-.78.8-2.07 0-2.86zM5.41 20L4 18.59l7.72-7.72 1.47 1.35L5.41 20z\"/>\n",
              "  </svg>\n",
              "      </button>\n",
              "      \n",
              "  <style>\n",
              "    .colab-df-container {\n",
              "      display:flex;\n",
              "      flex-wrap:wrap;\n",
              "      gap: 12px;\n",
              "    }\n",
              "\n",
              "    .colab-df-convert {\n",
              "      background-color: #E8F0FE;\n",
              "      border: none;\n",
              "      border-radius: 50%;\n",
              "      cursor: pointer;\n",
              "      display: none;\n",
              "      fill: #1967D2;\n",
              "      height: 32px;\n",
              "      padding: 0 0 0 0;\n",
              "      width: 32px;\n",
              "    }\n",
              "\n",
              "    .colab-df-convert:hover {\n",
              "      background-color: #E2EBFA;\n",
              "      box-shadow: 0px 1px 2px rgba(60, 64, 67, 0.3), 0px 1px 3px 1px rgba(60, 64, 67, 0.15);\n",
              "      fill: #174EA6;\n",
              "    }\n",
              "\n",
              "    [theme=dark] .colab-df-convert {\n",
              "      background-color: #3B4455;\n",
              "      fill: #D2E3FC;\n",
              "    }\n",
              "\n",
              "    [theme=dark] .colab-df-convert:hover {\n",
              "      background-color: #434B5C;\n",
              "      box-shadow: 0px 1px 3px 1px rgba(0, 0, 0, 0.15);\n",
              "      filter: drop-shadow(0px 1px 2px rgba(0, 0, 0, 0.3));\n",
              "      fill: #FFFFFF;\n",
              "    }\n",
              "  </style>\n",
              "\n",
              "      <script>\n",
              "        const buttonEl =\n",
              "          document.querySelector('#df-c814e52a-14b0-4805-b84c-ab0f4a911ee0 button.colab-df-convert');\n",
              "        buttonEl.style.display =\n",
              "          google.colab.kernel.accessAllowed ? 'block' : 'none';\n",
              "\n",
              "        async function convertToInteractive(key) {\n",
              "          const element = document.querySelector('#df-c814e52a-14b0-4805-b84c-ab0f4a911ee0');\n",
              "          const dataTable =\n",
              "            await google.colab.kernel.invokeFunction('convertToInteractive',\n",
              "                                                     [key], {});\n",
              "          if (!dataTable) return;\n",
              "\n",
              "          const docLinkHtml = 'Like what you see? Visit the ' +\n",
              "            '<a target=\"_blank\" href=https://colab.research.google.com/notebooks/data_table.ipynb>data table notebook</a>'\n",
              "            + ' to learn more about interactive tables.';\n",
              "          element.innerHTML = '';\n",
              "          dataTable['output_type'] = 'display_data';\n",
              "          await google.colab.output.renderOutput(dataTable, element);\n",
              "          const docLink = document.createElement('div');\n",
              "          docLink.innerHTML = docLinkHtml;\n",
              "          element.appendChild(docLink);\n",
              "        }\n",
              "      </script>\n",
              "    </div>\n",
              "  </div>\n",
              "  "
            ]
          },
          "metadata": {},
          "execution_count": 217
        }
      ]
    },
    {
      "cell_type": "code",
      "source": [
        "plt.scatter(mean_real_values[:10],mean_real_values[:10], c='r')\n",
        "plt.scatter(mean_real_values[:10],mean_preds[:10], c='b')\n",
        "plt.xlabel(\"x\")\n",
        "plt.ylabel(\"y\")\n",
        "plt.axis('equal')\n",
        "plt.axis('square')\n",
        "plt.xlim([0,plt.xlim()[1]])\n",
        "plt.ylim([0,plt.ylim()[1]])\n",
        "plt.plot([-10,10],[-10,10])"
      ],
      "metadata": {
        "colab": {
          "base_uri": "https://localhost:8080/",
          "height": 296
        },
        "id": "8wWV-Tblg23D",
        "outputId": "0708f497-2ddc-43e3-ea54-1ea56159ccaa"
      },
      "execution_count": 221,
      "outputs": [
        {
          "output_type": "execute_result",
          "data": {
            "text/plain": [
              "[<matplotlib.lines.Line2D at 0x7fab130096a0>]"
            ]
          },
          "metadata": {},
          "execution_count": 221
        },
        {
          "output_type": "display_data",
          "data": {
            "text/plain": [
              "<Figure size 432x288 with 1 Axes>"
            ],
            "image/png": "[encoded data removed]"
          },
          "metadata": {
            "needs_background": "light"
          }
        }
      ]
    },
    {
      "cell_type": "code",
      "source": [],
      "metadata": {
        "id": "G6hBIgOlhZWq"
      },
      "execution_count": null,
      "outputs": []
    }
  ]
}